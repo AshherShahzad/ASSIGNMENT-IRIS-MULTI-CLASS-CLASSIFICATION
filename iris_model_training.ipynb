{
 "cells": [
  {
   "cell_type": "markdown",
   "metadata": {},
   "source": [
    "# ASSIGNMENT : IRIS MULTI-CLASS CLASSIFICATION\n",
    "\n",
    "###### Purpose :\n",
    "To predict the species of flower .\n",
    "###### Description :\n",
    "The dataset contains a set of 150 records under 5 attributes - Petal Length, Petal Width, Sepal Length, Sepal width and Class(Species).\n",
    "###### Requirements :\n",
    "1) Code must be in tf 2.0 .\n",
    "\n",
    "2) Accuracy must be in between 95-97% .\n",
    "\n",
    "3) Model shouldn't be Overfit (You can add drop out layer for this) ."
   ]
  },
  {
   "cell_type": "markdown",
   "metadata": {},
   "source": [
    "### STEP 1 : Load all the necessary libraries "
   ]
  },
  {
   "cell_type": "markdown",
   "metadata": {},
   "source": [
    "https://www.kaggle.com/ash316/ml-from-scratch-with-iris <br>\n",
    "http://tekshinobi.com/analyzing-iris-dataset-with-keras-and-tensorflow-machine-learning-and-data-analysis/ <br>\n",
    "https://machinelearningmastery.com/visualize-deep-learning-neural-network-model-keras/ <br>"
   ]
  },
  {
   "cell_type": "code",
   "execution_count": 1,
   "metadata": {},
   "outputs": [],
   "source": [
    "# Any results you write to the current directory are saved as output.\n",
    "import itertools"
   ]
  },
  {
   "cell_type": "code",
   "execution_count": 2,
   "metadata": {},
   "outputs": [],
   "source": [
    "import numpy as np\n",
    "import pandas as pd"
   ]
  },
  {
   "cell_type": "code",
   "execution_count": 3,
   "metadata": {},
   "outputs": [],
   "source": [
    "from sklearn.model_selection import train_test_split\n",
    "from sklearn.preprocessing import MinMaxScaler\n",
    "from sklearn.preprocessing import LabelBinarizer\n",
    "from sklearn.model_selection import KFold\n",
    "from sklearn.model_selection import cross_val_score"
   ]
  },
  {
   "cell_type": "code",
   "execution_count": 4,
   "metadata": {},
   "outputs": [],
   "source": [
    "from tensorflow import keras"
   ]
  },
  {
   "cell_type": "code",
   "execution_count": 5,
   "metadata": {},
   "outputs": [],
   "source": [
    "from tensorflow.keras.models import Sequential\n",
    "from tensorflow.keras.layers import Dense\n",
    "from tensorflow.keras.layers import Activation\n",
    "from tensorflow.keras.wrappers.scikit_learn import KerasClassifier\n",
    "from tensorflow.keras.utils import to_categorical"
   ]
  },
  {
   "cell_type": "code",
   "execution_count": 6,
   "metadata": {},
   "outputs": [],
   "source": [
    "import matplotlib.pyplot as plt"
   ]
  },
  {
   "cell_type": "markdown",
   "metadata": {},
   "source": [
    "### STEP 2 : Data Preparation\n",
    "This step consists of multiple sub steps from data loading [download](https://github.com/ramsha275/PIAIC-Sir-Anees-Quarter-2/blob/master/Deep%20Learning/iris.csv),shuffling ,spliting in **Train** and **Test** sets to one-hot-enconding on labels . \n"
   ]
  },
  {
   "cell_type": "markdown",
   "metadata": {},
   "source": [
    "<h3>Create Dataframes for features and target</h3>"
   ]
  },
  {
   "cell_type": "code",
   "execution_count": 7,
   "metadata": {},
   "outputs": [],
   "source": [
    "layers = keras.layers\n",
    "models = keras.models"
   ]
  },
  {
   "cell_type": "code",
   "execution_count": 8,
   "metadata": {},
   "outputs": [],
   "source": [
    "encoder = LabelBinarizer()\n",
    "seed = 42"
   ]
  },
  {
   "cell_type": "code",
   "execution_count": 9,
   "metadata": {},
   "outputs": [
    {
     "data": {
      "text/html": [
       "<div>\n",
       "<style scoped>\n",
       "    .dataframe tbody tr th:only-of-type {\n",
       "        vertical-align: middle;\n",
       "    }\n",
       "\n",
       "    .dataframe tbody tr th {\n",
       "        vertical-align: top;\n",
       "    }\n",
       "\n",
       "    .dataframe thead th {\n",
       "        text-align: right;\n",
       "    }\n",
       "</style>\n",
       "<table border=\"1\" class=\"dataframe\">\n",
       "  <thead>\n",
       "    <tr style=\"text-align: right;\">\n",
       "      <th></th>\n",
       "      <th>sepal.length</th>\n",
       "      <th>sepal.width</th>\n",
       "      <th>petal.length</th>\n",
       "      <th>petal.width</th>\n",
       "      <th>variety</th>\n",
       "    </tr>\n",
       "  </thead>\n",
       "  <tbody>\n",
       "    <tr>\n",
       "      <th>0</th>\n",
       "      <td>5.1</td>\n",
       "      <td>3.5</td>\n",
       "      <td>1.4</td>\n",
       "      <td>0.2</td>\n",
       "      <td>Setosa</td>\n",
       "    </tr>\n",
       "    <tr>\n",
       "      <th>1</th>\n",
       "      <td>4.9</td>\n",
       "      <td>3.0</td>\n",
       "      <td>1.4</td>\n",
       "      <td>0.2</td>\n",
       "      <td>Setosa</td>\n",
       "    </tr>\n",
       "    <tr>\n",
       "      <th>2</th>\n",
       "      <td>4.7</td>\n",
       "      <td>3.2</td>\n",
       "      <td>1.3</td>\n",
       "      <td>0.2</td>\n",
       "      <td>Setosa</td>\n",
       "    </tr>\n",
       "    <tr>\n",
       "      <th>3</th>\n",
       "      <td>4.6</td>\n",
       "      <td>3.1</td>\n",
       "      <td>1.5</td>\n",
       "      <td>0.2</td>\n",
       "      <td>Setosa</td>\n",
       "    </tr>\n",
       "    <tr>\n",
       "      <th>4</th>\n",
       "      <td>5.0</td>\n",
       "      <td>3.6</td>\n",
       "      <td>1.4</td>\n",
       "      <td>0.2</td>\n",
       "      <td>Setosa</td>\n",
       "    </tr>\n",
       "  </tbody>\n",
       "</table>\n",
       "</div>"
      ],
      "text/plain": [
       "   sepal.length  sepal.width  petal.length  petal.width variety\n",
       "0           5.1          3.5           1.4          0.2  Setosa\n",
       "1           4.9          3.0           1.4          0.2  Setosa\n",
       "2           4.7          3.2           1.3          0.2  Setosa\n",
       "3           4.6          3.1           1.5          0.2  Setosa\n",
       "4           5.0          3.6           1.4          0.2  Setosa"
      ]
     },
     "execution_count": 9,
     "metadata": {},
     "output_type": "execute_result"
    }
   ],
   "source": [
    "iris_df = pd.read_csv('iris.csv')\n",
    "iris_df.head()"
   ]
  },
  {
   "cell_type": "code",
   "execution_count": 10,
   "metadata": {},
   "outputs": [
    {
     "data": {
      "text/html": [
       "<div>\n",
       "<style scoped>\n",
       "    .dataframe tbody tr th:only-of-type {\n",
       "        vertical-align: middle;\n",
       "    }\n",
       "\n",
       "    .dataframe tbody tr th {\n",
       "        vertical-align: top;\n",
       "    }\n",
       "\n",
       "    .dataframe thead th {\n",
       "        text-align: right;\n",
       "    }\n",
       "</style>\n",
       "<table border=\"1\" class=\"dataframe\">\n",
       "  <thead>\n",
       "    <tr style=\"text-align: right;\">\n",
       "      <th></th>\n",
       "      <th>sepal.length</th>\n",
       "      <th>sepal.width</th>\n",
       "      <th>petal.length</th>\n",
       "      <th>petal.width</th>\n",
       "    </tr>\n",
       "  </thead>\n",
       "  <tbody>\n",
       "    <tr>\n",
       "      <th>0</th>\n",
       "      <td>5.1</td>\n",
       "      <td>3.5</td>\n",
       "      <td>1.4</td>\n",
       "      <td>0.2</td>\n",
       "    </tr>\n",
       "    <tr>\n",
       "      <th>1</th>\n",
       "      <td>4.9</td>\n",
       "      <td>3.0</td>\n",
       "      <td>1.4</td>\n",
       "      <td>0.2</td>\n",
       "    </tr>\n",
       "    <tr>\n",
       "      <th>2</th>\n",
       "      <td>4.7</td>\n",
       "      <td>3.2</td>\n",
       "      <td>1.3</td>\n",
       "      <td>0.2</td>\n",
       "    </tr>\n",
       "    <tr>\n",
       "      <th>3</th>\n",
       "      <td>4.6</td>\n",
       "      <td>3.1</td>\n",
       "      <td>1.5</td>\n",
       "      <td>0.2</td>\n",
       "    </tr>\n",
       "    <tr>\n",
       "      <th>4</th>\n",
       "      <td>5.0</td>\n",
       "      <td>3.6</td>\n",
       "      <td>1.4</td>\n",
       "      <td>0.2</td>\n",
       "    </tr>\n",
       "  </tbody>\n",
       "</table>\n",
       "</div>"
      ],
      "text/plain": [
       "   sepal.length  sepal.width  petal.length  petal.width\n",
       "0           5.1          3.5           1.4          0.2\n",
       "1           4.9          3.0           1.4          0.2\n",
       "2           4.7          3.2           1.3          0.2\n",
       "3           4.6          3.1           1.5          0.2\n",
       "4           5.0          3.6           1.4          0.2"
      ]
     },
     "execution_count": 10,
     "metadata": {},
     "output_type": "execute_result"
    }
   ],
   "source": [
    "iris_data_df = iris_df.loc[:, iris_df.columns != 'variety']\n",
    "iris_data_df.head()"
   ]
  },
  {
   "cell_type": "code",
   "execution_count": 11,
   "metadata": {},
   "outputs": [
    {
     "data": {
      "text/plain": [
       "array([0, 0, 0, 0, 0, 0, 0, 0, 0, 0, 0, 0, 0, 0, 0, 0, 0, 0, 0, 0, 0, 0,\n",
       "       0, 0, 0, 0, 0, 0, 0, 0, 0, 0, 0, 0, 0, 0, 0, 0, 0, 0, 0, 0, 0, 0,\n",
       "       0, 0, 0, 0, 0, 0, 1, 1, 1, 1, 1, 1, 1, 1, 1, 1, 1, 1, 1, 1, 1, 1,\n",
       "       1, 1, 1, 1, 1, 1, 1, 1, 1, 1, 1, 1, 1, 1, 1, 1, 1, 1, 1, 1, 1, 1,\n",
       "       1, 1, 1, 1, 1, 1, 1, 1, 1, 1, 1, 1, 2, 2, 2, 2, 2, 2, 2, 2, 2, 2,\n",
       "       2, 2, 2, 2, 2, 2, 2, 2, 2, 2, 2, 2, 2, 2, 2, 2, 2, 2, 2, 2, 2, 2,\n",
       "       2, 2, 2, 2, 2, 2, 2, 2, 2, 2, 2, 2, 2, 2, 2, 2, 2, 2], dtype=int64)"
      ]
     },
     "execution_count": 11,
     "metadata": {},
     "output_type": "execute_result"
    }
   ],
   "source": [
    "variety = ['Setosa', 'Versicolor', 'Virginica']\n",
    "iris_target_array = iris_df['variety'].apply(variety.index)\n",
    "iris_target = np.array(iris_target_array)\n",
    "iris_target"
   ]
  },
  {
   "cell_type": "code",
   "execution_count": 12,
   "metadata": {},
   "outputs": [
    {
     "data": {
      "text/plain": [
       "array([[1., 0., 0.],\n",
       "       [1., 0., 0.],\n",
       "       [1., 0., 0.],\n",
       "       [1., 0., 0.],\n",
       "       [1., 0., 0.],\n",
       "       [1., 0., 0.],\n",
       "       [1., 0., 0.],\n",
       "       [1., 0., 0.],\n",
       "       [1., 0., 0.],\n",
       "       [1., 0., 0.],\n",
       "       [1., 0., 0.],\n",
       "       [1., 0., 0.],\n",
       "       [1., 0., 0.],\n",
       "       [1., 0., 0.],\n",
       "       [1., 0., 0.],\n",
       "       [1., 0., 0.],\n",
       "       [1., 0., 0.],\n",
       "       [1., 0., 0.],\n",
       "       [1., 0., 0.],\n",
       "       [1., 0., 0.],\n",
       "       [1., 0., 0.],\n",
       "       [1., 0., 0.],\n",
       "       [1., 0., 0.],\n",
       "       [1., 0., 0.],\n",
       "       [1., 0., 0.],\n",
       "       [1., 0., 0.],\n",
       "       [1., 0., 0.],\n",
       "       [1., 0., 0.],\n",
       "       [1., 0., 0.],\n",
       "       [1., 0., 0.],\n",
       "       [1., 0., 0.],\n",
       "       [1., 0., 0.],\n",
       "       [1., 0., 0.],\n",
       "       [1., 0., 0.],\n",
       "       [1., 0., 0.],\n",
       "       [1., 0., 0.],\n",
       "       [1., 0., 0.],\n",
       "       [1., 0., 0.],\n",
       "       [1., 0., 0.],\n",
       "       [1., 0., 0.],\n",
       "       [1., 0., 0.],\n",
       "       [1., 0., 0.],\n",
       "       [1., 0., 0.],\n",
       "       [1., 0., 0.],\n",
       "       [1., 0., 0.],\n",
       "       [1., 0., 0.],\n",
       "       [1., 0., 0.],\n",
       "       [1., 0., 0.],\n",
       "       [1., 0., 0.],\n",
       "       [1., 0., 0.],\n",
       "       [0., 1., 0.],\n",
       "       [0., 1., 0.],\n",
       "       [0., 1., 0.],\n",
       "       [0., 1., 0.],\n",
       "       [0., 1., 0.],\n",
       "       [0., 1., 0.],\n",
       "       [0., 1., 0.],\n",
       "       [0., 1., 0.],\n",
       "       [0., 1., 0.],\n",
       "       [0., 1., 0.],\n",
       "       [0., 1., 0.],\n",
       "       [0., 1., 0.],\n",
       "       [0., 1., 0.],\n",
       "       [0., 1., 0.],\n",
       "       [0., 1., 0.],\n",
       "       [0., 1., 0.],\n",
       "       [0., 1., 0.],\n",
       "       [0., 1., 0.],\n",
       "       [0., 1., 0.],\n",
       "       [0., 1., 0.],\n",
       "       [0., 1., 0.],\n",
       "       [0., 1., 0.],\n",
       "       [0., 1., 0.],\n",
       "       [0., 1., 0.],\n",
       "       [0., 1., 0.],\n",
       "       [0., 1., 0.],\n",
       "       [0., 1., 0.],\n",
       "       [0., 1., 0.],\n",
       "       [0., 1., 0.],\n",
       "       [0., 1., 0.],\n",
       "       [0., 1., 0.],\n",
       "       [0., 1., 0.],\n",
       "       [0., 1., 0.],\n",
       "       [0., 1., 0.],\n",
       "       [0., 1., 0.],\n",
       "       [0., 1., 0.],\n",
       "       [0., 1., 0.],\n",
       "       [0., 1., 0.],\n",
       "       [0., 1., 0.],\n",
       "       [0., 1., 0.],\n",
       "       [0., 1., 0.],\n",
       "       [0., 1., 0.],\n",
       "       [0., 1., 0.],\n",
       "       [0., 1., 0.],\n",
       "       [0., 1., 0.],\n",
       "       [0., 1., 0.],\n",
       "       [0., 1., 0.],\n",
       "       [0., 1., 0.],\n",
       "       [0., 1., 0.],\n",
       "       [0., 1., 0.],\n",
       "       [0., 0., 1.],\n",
       "       [0., 0., 1.],\n",
       "       [0., 0., 1.],\n",
       "       [0., 0., 1.],\n",
       "       [0., 0., 1.],\n",
       "       [0., 0., 1.],\n",
       "       [0., 0., 1.],\n",
       "       [0., 0., 1.],\n",
       "       [0., 0., 1.],\n",
       "       [0., 0., 1.],\n",
       "       [0., 0., 1.],\n",
       "       [0., 0., 1.],\n",
       "       [0., 0., 1.],\n",
       "       [0., 0., 1.],\n",
       "       [0., 0., 1.],\n",
       "       [0., 0., 1.],\n",
       "       [0., 0., 1.],\n",
       "       [0., 0., 1.],\n",
       "       [0., 0., 1.],\n",
       "       [0., 0., 1.],\n",
       "       [0., 0., 1.],\n",
       "       [0., 0., 1.],\n",
       "       [0., 0., 1.],\n",
       "       [0., 0., 1.],\n",
       "       [0., 0., 1.],\n",
       "       [0., 0., 1.],\n",
       "       [0., 0., 1.],\n",
       "       [0., 0., 1.],\n",
       "       [0., 0., 1.],\n",
       "       [0., 0., 1.],\n",
       "       [0., 0., 1.],\n",
       "       [0., 0., 1.],\n",
       "       [0., 0., 1.],\n",
       "       [0., 0., 1.],\n",
       "       [0., 0., 1.],\n",
       "       [0., 0., 1.],\n",
       "       [0., 0., 1.],\n",
       "       [0., 0., 1.],\n",
       "       [0., 0., 1.],\n",
       "       [0., 0., 1.],\n",
       "       [0., 0., 1.],\n",
       "       [0., 0., 1.],\n",
       "       [0., 0., 1.],\n",
       "       [0., 0., 1.],\n",
       "       [0., 0., 1.],\n",
       "       [0., 0., 1.],\n",
       "       [0., 0., 1.],\n",
       "       [0., 0., 1.],\n",
       "       [0., 0., 1.],\n",
       "       [0., 0., 1.]], dtype=float32)"
      ]
     },
     "execution_count": 12,
     "metadata": {},
     "output_type": "execute_result"
    }
   ],
   "source": [
    "#target = encoder.fit_transform(iris_target)\n",
    "target = to_categorical(iris_target)\n",
    "target"
   ]
  },
  {
   "cell_type": "code",
   "execution_count": 13,
   "metadata": {},
   "outputs": [
    {
     "data": {
      "text/html": [
       "<div>\n",
       "<style scoped>\n",
       "    .dataframe tbody tr th:only-of-type {\n",
       "        vertical-align: middle;\n",
       "    }\n",
       "\n",
       "    .dataframe tbody tr th {\n",
       "        vertical-align: top;\n",
       "    }\n",
       "\n",
       "    .dataframe thead th {\n",
       "        text-align: right;\n",
       "    }\n",
       "</style>\n",
       "<table border=\"1\" class=\"dataframe\">\n",
       "  <thead>\n",
       "    <tr style=\"text-align: right;\">\n",
       "      <th></th>\n",
       "      <th>Setosa</th>\n",
       "      <th>Versicolor</th>\n",
       "      <th>Virginica</th>\n",
       "    </tr>\n",
       "  </thead>\n",
       "  <tbody>\n",
       "    <tr>\n",
       "      <th>0</th>\n",
       "      <td>1.0</td>\n",
       "      <td>0.0</td>\n",
       "      <td>0.0</td>\n",
       "    </tr>\n",
       "    <tr>\n",
       "      <th>1</th>\n",
       "      <td>1.0</td>\n",
       "      <td>0.0</td>\n",
       "      <td>0.0</td>\n",
       "    </tr>\n",
       "    <tr>\n",
       "      <th>2</th>\n",
       "      <td>1.0</td>\n",
       "      <td>0.0</td>\n",
       "      <td>0.0</td>\n",
       "    </tr>\n",
       "    <tr>\n",
       "      <th>3</th>\n",
       "      <td>1.0</td>\n",
       "      <td>0.0</td>\n",
       "      <td>0.0</td>\n",
       "    </tr>\n",
       "    <tr>\n",
       "      <th>4</th>\n",
       "      <td>1.0</td>\n",
       "      <td>0.0</td>\n",
       "      <td>0.0</td>\n",
       "    </tr>\n",
       "  </tbody>\n",
       "</table>\n",
       "</div>"
      ],
      "text/plain": [
       "   Setosa  Versicolor  Virginica\n",
       "0     1.0         0.0        0.0\n",
       "1     1.0         0.0        0.0\n",
       "2     1.0         0.0        0.0\n",
       "3     1.0         0.0        0.0\n",
       "4     1.0         0.0        0.0"
      ]
     },
     "execution_count": 13,
     "metadata": {},
     "output_type": "execute_result"
    }
   ],
   "source": [
    "# iris_target_df = pd.DataFrame({\n",
    "#     'Setosa' : iris_df['variety'] == 'Setosa',\n",
    "#     'Versicolor' : iris_df['variety'] == 'Versicolor',\n",
    "#     'Virginica' : iris_df['variety'] == 'Virginica',\n",
    "# })*1\n",
    "# iris_target_df.head()\n",
    "iris_target_df = pd.DataFrame(data=target, columns=variety) \n",
    "iris_target_df.head()"
   ]
  },
  {
   "cell_type": "markdown",
   "metadata": {},
   "source": [
    "<h3>Create training and testing datasets</h3>"
   ]
  },
  {
   "cell_type": "code",
   "execution_count": 14,
   "metadata": {},
   "outputs": [],
   "source": [
    "X_train,X_test,y_train,y_test = train_test_split(iris_data_df,\n",
    "                                                 iris_target_df,\n",
    "                                                 test_size=0.20,\n",
    "                                                 random_state=seed)"
   ]
  },
  {
   "cell_type": "code",
   "execution_count": 15,
   "metadata": {},
   "outputs": [
    {
     "name": "stdout",
     "output_type": "stream",
     "text": [
      "120\n",
      "30\n",
      "120\n",
      "30\n"
     ]
    }
   ],
   "source": [
    "print(len(X_train))\n",
    "print(len(X_test))\n",
    "print(len(y_train))\n",
    "print(len(y_test))"
   ]
  },
  {
   "cell_type": "code",
   "execution_count": 16,
   "metadata": {},
   "outputs": [
    {
     "name": "stdout",
     "output_type": "stream",
     "text": [
      "(120, 4)\n",
      "(30, 4)\n",
      "(120, 3)\n",
      "(30, 3)\n"
     ]
    }
   ],
   "source": [
    "print(X_train.shape)\n",
    "print(X_test.shape)\n",
    "print(y_train.shape)\n",
    "print(y_test.shape)"
   ]
  },
  {
   "cell_type": "markdown",
   "metadata": {},
   "source": [
    "<h3>Feature scaling.</h3>"
   ]
  },
  {
   "cell_type": "markdown",
   "metadata": {},
   "source": [
    "ML algos perform best when all dataset features have the same scale. Particularly, in Neural Nets, we use MinMaxScaler with range between 0 and 1.<br>\n",
    "Also, since MinMaxScalar transformation makes us lose the column and index labels, we need to recreate the dataframes for scaled data and target."
   ]
  },
  {
   "cell_type": "code",
   "execution_count": 17,
   "metadata": {},
   "outputs": [],
   "source": [
    "# scaler = MinMaxScaler(feature_range=(0,1))\n",
    "# scaler"
   ]
  },
  {
   "cell_type": "code",
   "execution_count": 18,
   "metadata": {},
   "outputs": [],
   "source": [
    "# X_train = pd.DataFrame(scaler.fit_transform(X_train),\n",
    "#                                columns=X_train.columns,\n",
    "#                                index=X_train.index)\n",
    "# X_train.head()"
   ]
  },
  {
   "cell_type": "code",
   "execution_count": 19,
   "metadata": {},
   "outputs": [],
   "source": [
    "# X_test = pd.DataFrame(scaler.transform(X_test),\n",
    "#                            columns=X_test.columns,\n",
    "#                            index=X_test.index)\n",
    "# X_test.head()"
   ]
  },
  {
   "cell_type": "markdown",
   "metadata": {},
   "source": [
    "<h5>Optional micro detail:</h5>\n",
    "Note that we use <b>fit_transform</b> on X_train and <b>transform</b> on X_test.<br>\n",
    "It is very important that we don’t fit on test data."
   ]
  },
  {
   "cell_type": "markdown",
   "metadata": {},
   "source": [
    "### STEP 3 : Model Architecture \n",
    "\n",
    "\n",
    "###### Input : 4 \n",
    "###### 1 hidden Layer : 8 nodes\n",
    "###### Output : 3"
   ]
  },
  {
   "cell_type": "markdown",
   "metadata": {},
   "source": [
    "<h3>Build Model </h3>"
   ]
  },
  {
   "cell_type": "markdown",
   "metadata": {},
   "source": [
    "<b>tanh:</b><br>\n",
    "The exponential linear activation:\n",
    "<code>x</code>\n",
    "if\n",
    "<code>x>0</code>\n",
    "and\n",
    "<code>alpha * (exp(x)-1) </code>\n",
    "if\n",
    "<code>x<0</code>"
   ]
  },
  {
   "cell_type": "code",
   "execution_count": 20,
   "metadata": {},
   "outputs": [],
   "source": [
    "# model = Sequential()\n",
    "# ##model.add(Dense(4, input_dim=4, activation='tanh', name='input_layer'))\n",
    "# model.add(Dense(4, input_shape=(4,), name='input_layer'))\n",
    "# model.add(Dense(8, activation='tanh', name='hidden_layer'))\n",
    "# model.add(layers.Activation('relu'))\n",
    "# model.add(Dense(3, activation='softmax', name='output_layer'))\n",
    "# model.summary()"
   ]
  },
  {
   "cell_type": "code",
   "execution_count": 149,
   "metadata": {},
   "outputs": [
    {
     "name": "stdout",
     "output_type": "stream",
     "text": [
      "Model: \"sequential_10\"\n",
      "_________________________________________________________________\n",
      "Layer (type)                 Output Shape              Param #   \n",
      "=================================================================\n",
      "input_layer (Dense)          (None, 4)                 20        \n",
      "_________________________________________________________________\n",
      "hidden_layer (Dense)         (None, 8)                 40        \n",
      "_________________________________________________________________\n",
      "activation_20 (Activation)   (None, 8)                 0         \n",
      "_________________________________________________________________\n",
      "output_layer (Dense)         (None, 3)                 27        \n",
      "_________________________________________________________________\n",
      "activation_21 (Activation)   (None, 3)                 0         \n",
      "=================================================================\n",
      "Total params: 87\n",
      "Trainable params: 87\n",
      "Non-trainable params: 0\n",
      "_________________________________________________________________\n"
     ]
    }
   ],
   "source": [
    "model = Sequential()\n",
    "model.add(Dense(4, input_shape=(4,), name='input_layer'))\n",
    "model.add(Dense(8, activation='tanh', name='hidden_layer'))\n",
    "model.add(Activation('tanh'))\n",
    "model.add(Dense(3, name='output_layer'))\n",
    "model.add(Activation('softmax'))\n",
    "model.summary()"
   ]
  },
  {
   "cell_type": "markdown",
   "metadata": {},
   "source": [
    "### STEP 4 : Compilation Step "
   ]
  },
  {
   "cell_type": "code",
   "execution_count": 150,
   "metadata": {},
   "outputs": [
    {
     "name": "stdout",
     "output_type": "stream",
     "text": [
      "Model: \"sequential_10\"\n",
      "_________________________________________________________________\n",
      "Layer (type)                 Output Shape              Param #   \n",
      "=================================================================\n",
      "input_layer (Dense)          (None, 4)                 20        \n",
      "_________________________________________________________________\n",
      "hidden_layer (Dense)         (None, 8)                 40        \n",
      "_________________________________________________________________\n",
      "activation_20 (Activation)   (None, 8)                 0         \n",
      "_________________________________________________________________\n",
      "output_layer (Dense)         (None, 3)                 27        \n",
      "_________________________________________________________________\n",
      "activation_21 (Activation)   (None, 3)                 0         \n",
      "=================================================================\n",
      "Total params: 87\n",
      "Trainable params: 87\n",
      "Non-trainable params: 0\n",
      "_________________________________________________________________\n"
     ]
    }
   ],
   "source": [
    "model.compile(loss=\"categorical_crossentropy\",\n",
    "                  optimizer=\"adam\",\n",
    "                  metrics=['accuracy'])\n",
    "model.summary()"
   ]
  },
  {
   "cell_type": "code",
   "execution_count": 151,
   "metadata": {
    "scrolled": true
   },
   "outputs": [
    {
     "data": {
      "text/html": [
       "<div>\n",
       "<style scoped>\n",
       "    .dataframe tbody tr th:only-of-type {\n",
       "        vertical-align: middle;\n",
       "    }\n",
       "\n",
       "    .dataframe tbody tr th {\n",
       "        vertical-align: top;\n",
       "    }\n",
       "\n",
       "    .dataframe thead th {\n",
       "        text-align: right;\n",
       "    }\n",
       "</style>\n",
       "<table border=\"1\" class=\"dataframe\">\n",
       "  <thead>\n",
       "    <tr style=\"text-align: right;\">\n",
       "      <th></th>\n",
       "      <th>sepal.length</th>\n",
       "      <th>sepal.width</th>\n",
       "      <th>petal.length</th>\n",
       "      <th>petal.width</th>\n",
       "    </tr>\n",
       "  </thead>\n",
       "  <tbody>\n",
       "    <tr>\n",
       "      <th>22</th>\n",
       "      <td>4.6</td>\n",
       "      <td>3.6</td>\n",
       "      <td>1.0</td>\n",
       "      <td>0.2</td>\n",
       "    </tr>\n",
       "    <tr>\n",
       "      <th>15</th>\n",
       "      <td>5.7</td>\n",
       "      <td>4.4</td>\n",
       "      <td>1.5</td>\n",
       "      <td>0.4</td>\n",
       "    </tr>\n",
       "    <tr>\n",
       "      <th>65</th>\n",
       "      <td>6.7</td>\n",
       "      <td>3.1</td>\n",
       "      <td>4.4</td>\n",
       "      <td>1.4</td>\n",
       "    </tr>\n",
       "    <tr>\n",
       "      <th>11</th>\n",
       "      <td>4.8</td>\n",
       "      <td>3.4</td>\n",
       "      <td>1.6</td>\n",
       "      <td>0.2</td>\n",
       "    </tr>\n",
       "    <tr>\n",
       "      <th>42</th>\n",
       "      <td>4.4</td>\n",
       "      <td>3.2</td>\n",
       "      <td>1.3</td>\n",
       "      <td>0.2</td>\n",
       "    </tr>\n",
       "  </tbody>\n",
       "</table>\n",
       "</div>"
      ],
      "text/plain": [
       "    sepal.length  sepal.width  petal.length  petal.width\n",
       "22           4.6          3.6           1.0          0.2\n",
       "15           5.7          4.4           1.5          0.4\n",
       "65           6.7          3.1           4.4          1.4\n",
       "11           4.8          3.4           1.6          0.2\n",
       "42           4.4          3.2           1.3          0.2"
      ]
     },
     "execution_count": 151,
     "metadata": {},
     "output_type": "execute_result"
    }
   ],
   "source": [
    "X_train.head()"
   ]
  },
  {
   "cell_type": "code",
   "execution_count": 152,
   "metadata": {},
   "outputs": [
    {
     "data": {
      "text/html": [
       "<div>\n",
       "<style scoped>\n",
       "    .dataframe tbody tr th:only-of-type {\n",
       "        vertical-align: middle;\n",
       "    }\n",
       "\n",
       "    .dataframe tbody tr th {\n",
       "        vertical-align: top;\n",
       "    }\n",
       "\n",
       "    .dataframe thead th {\n",
       "        text-align: right;\n",
       "    }\n",
       "</style>\n",
       "<table border=\"1\" class=\"dataframe\">\n",
       "  <thead>\n",
       "    <tr style=\"text-align: right;\">\n",
       "      <th></th>\n",
       "      <th>sepal.length</th>\n",
       "      <th>sepal.width</th>\n",
       "      <th>petal.length</th>\n",
       "      <th>petal.width</th>\n",
       "    </tr>\n",
       "  </thead>\n",
       "  <tbody>\n",
       "    <tr>\n",
       "      <th>73</th>\n",
       "      <td>6.1</td>\n",
       "      <td>2.8</td>\n",
       "      <td>4.7</td>\n",
       "      <td>1.2</td>\n",
       "    </tr>\n",
       "    <tr>\n",
       "      <th>18</th>\n",
       "      <td>5.7</td>\n",
       "      <td>3.8</td>\n",
       "      <td>1.7</td>\n",
       "      <td>0.3</td>\n",
       "    </tr>\n",
       "    <tr>\n",
       "      <th>118</th>\n",
       "      <td>7.7</td>\n",
       "      <td>2.6</td>\n",
       "      <td>6.9</td>\n",
       "      <td>2.3</td>\n",
       "    </tr>\n",
       "    <tr>\n",
       "      <th>78</th>\n",
       "      <td>6.0</td>\n",
       "      <td>2.9</td>\n",
       "      <td>4.5</td>\n",
       "      <td>1.5</td>\n",
       "    </tr>\n",
       "    <tr>\n",
       "      <th>76</th>\n",
       "      <td>6.8</td>\n",
       "      <td>2.8</td>\n",
       "      <td>4.8</td>\n",
       "      <td>1.4</td>\n",
       "    </tr>\n",
       "  </tbody>\n",
       "</table>\n",
       "</div>"
      ],
      "text/plain": [
       "     sepal.length  sepal.width  petal.length  petal.width\n",
       "73            6.1          2.8           4.7          1.2\n",
       "18            5.7          3.8           1.7          0.3\n",
       "118           7.7          2.6           6.9          2.3\n",
       "78            6.0          2.9           4.5          1.5\n",
       "76            6.8          2.8           4.8          1.4"
      ]
     },
     "execution_count": 152,
     "metadata": {},
     "output_type": "execute_result"
    }
   ],
   "source": [
    "X_test.head()"
   ]
  },
  {
   "cell_type": "code",
   "execution_count": 153,
   "metadata": {},
   "outputs": [],
   "source": [
    "# def model():\n",
    "#     \"\"\"build the Keras model callback\"\"\"\n",
    "#     model = Sequential()\n",
    "#     model.add(Dense(4, input_dim=4, activation='tanh', name='input_layer'))\n",
    "#     model.add(Dense(8, activation='tanh', name='hidden_layer'))\n",
    "#     model.add(Dense(3, activation='softmax', name='output_layer'))\n",
    " \n",
    "#     model.compile(loss=\"categorical_crossentropy\",\n",
    "#                   optimizer=\"adam\",\n",
    "#                   metrics=['accuracy'])\n",
    "#     return model"
   ]
  },
  {
   "cell_type": "markdown",
   "metadata": {},
   "source": [
    "<h3>Create estimator</h3>"
   ]
  },
  {
   "cell_type": "code",
   "execution_count": 154,
   "metadata": {},
   "outputs": [],
   "source": [
    "# estimator = KerasClassifier(\n",
    "#     build_fn=model,\n",
    "#     epochs=200, batch_size=20,\n",
    "#     verbose=2)\n",
    "# estimator"
   ]
  },
  {
   "cell_type": "code",
   "execution_count": 155,
   "metadata": {},
   "outputs": [],
   "source": [
    "# kfold = KFold(n_splits=5, shuffle=True, random_state=seed)"
   ]
  },
  {
   "cell_type": "code",
   "execution_count": 156,
   "metadata": {},
   "outputs": [],
   "source": [
    "# results = cross_val_score(estimator, X_train, y_train, cv=kfold)"
   ]
  },
  {
   "cell_type": "code",
   "execution_count": 157,
   "metadata": {
    "scrolled": true
   },
   "outputs": [],
   "source": [
    "# print(\"Model Performance: mean: %.2f%% std: (%.2f%%)\" % (results.mean()*100, results.std()*100))"
   ]
  },
  {
   "cell_type": "markdown",
   "metadata": {},
   "source": [
    "tanh : Model Performance: mean: 86.67% std: (8.19%)"
   ]
  },
  {
   "cell_type": "code",
   "execution_count": 158,
   "metadata": {},
   "outputs": [
    {
     "name": "stdout",
     "output_type": "stream",
     "text": [
      "Train on 108 samples, validate on 12 samples\n",
      "Epoch 1/200\n",
      "108/108 - 3s - loss: 1.1804 - acc: 0.3148 - val_loss: 1.1049 - val_acc: 0.4167\n",
      "Epoch 2/200\n",
      "108/108 - 0s - loss: 1.1607 - acc: 0.3148 - val_loss: 1.0962 - val_acc: 0.4167\n",
      "Epoch 3/200\n",
      "108/108 - 0s - loss: 1.1440 - acc: 0.3148 - val_loss: 1.0869 - val_acc: 0.4167\n",
      "Epoch 4/200\n",
      "108/108 - 0s - loss: 1.1234 - acc: 0.3148 - val_loss: 1.0773 - val_acc: 0.4167\n",
      "Epoch 5/200\n",
      "108/108 - 0s - loss: 1.1002 - acc: 0.3148 - val_loss: 1.0666 - val_acc: 0.4167\n",
      "Epoch 6/200\n",
      "108/108 - 0s - loss: 1.0774 - acc: 0.3148 - val_loss: 1.0566 - val_acc: 0.4167\n",
      "Epoch 7/200\n",
      "108/108 - 0s - loss: 1.0518 - acc: 0.3241 - val_loss: 1.0460 - val_acc: 0.4167\n",
      "Epoch 8/200\n",
      "108/108 - 0s - loss: 1.0220 - acc: 0.3889 - val_loss: 1.0350 - val_acc: 0.4167\n",
      "Epoch 9/200\n",
      "108/108 - 0s - loss: 0.9939 - acc: 0.5185 - val_loss: 1.0235 - val_acc: 0.4167\n",
      "Epoch 10/200\n",
      "108/108 - 0s - loss: 0.9637 - acc: 0.6204 - val_loss: 1.0108 - val_acc: 0.5833\n",
      "Epoch 11/200\n",
      "108/108 - 0s - loss: 0.9382 - acc: 0.6574 - val_loss: 0.9962 - val_acc: 0.5833\n",
      "Epoch 12/200\n",
      "108/108 - 0s - loss: 0.9121 - acc: 0.6574 - val_loss: 0.9803 - val_acc: 0.5833\n",
      "Epoch 13/200\n",
      "108/108 - 0s - loss: 0.8900 - acc: 0.6389 - val_loss: 0.9630 - val_acc: 0.5000\n",
      "Epoch 14/200\n",
      "108/108 - 0s - loss: 0.8648 - acc: 0.5463 - val_loss: 0.9439 - val_acc: 0.1667\n",
      "Epoch 15/200\n",
      "108/108 - 0s - loss: 0.8420 - acc: 0.4815 - val_loss: 0.9236 - val_acc: 0.1667\n",
      "Epoch 16/200\n",
      "108/108 - 0s - loss: 0.8217 - acc: 0.4167 - val_loss: 0.9011 - val_acc: 0.2500\n",
      "Epoch 17/200\n",
      "108/108 - 0s - loss: 0.8000 - acc: 0.5370 - val_loss: 0.8779 - val_acc: 0.4167\n",
      "Epoch 18/200\n",
      "108/108 - 0s - loss: 0.7784 - acc: 0.6574 - val_loss: 0.8545 - val_acc: 0.5833\n",
      "Epoch 19/200\n",
      "108/108 - 0s - loss: 0.7580 - acc: 0.6667 - val_loss: 0.8311 - val_acc: 0.5833\n",
      "Epoch 20/200\n",
      "108/108 - 0s - loss: 0.7384 - acc: 0.6852 - val_loss: 0.8093 - val_acc: 0.5833\n",
      "Epoch 21/200\n",
      "108/108 - 0s - loss: 0.7196 - acc: 0.6852 - val_loss: 0.7904 - val_acc: 0.5833\n",
      "Epoch 22/200\n",
      "108/108 - 0s - loss: 0.7033 - acc: 0.6852 - val_loss: 0.7734 - val_acc: 0.5833\n",
      "Epoch 23/200\n",
      "108/108 - 0s - loss: 0.6881 - acc: 0.6852 - val_loss: 0.7588 - val_acc: 0.5833\n",
      "Epoch 24/200\n",
      "108/108 - 0s - loss: 0.6748 - acc: 0.6852 - val_loss: 0.7461 - val_acc: 0.5833\n",
      "Epoch 25/200\n",
      "108/108 - 0s - loss: 0.6628 - acc: 0.6852 - val_loss: 0.7349 - val_acc: 0.5833\n",
      "Epoch 26/200\n",
      "108/108 - 0s - loss: 0.6514 - acc: 0.6852 - val_loss: 0.7250 - val_acc: 0.5833\n",
      "Epoch 27/200\n",
      "108/108 - 0s - loss: 0.6406 - acc: 0.7407 - val_loss: 0.7158 - val_acc: 0.5833\n",
      "Epoch 28/200\n",
      "108/108 - 0s - loss: 0.6303 - acc: 0.7870 - val_loss: 0.7074 - val_acc: 0.6667\n",
      "Epoch 29/200\n",
      "108/108 - 0s - loss: 0.6200 - acc: 0.8241 - val_loss: 0.6996 - val_acc: 0.6667\n",
      "Epoch 30/200\n",
      "108/108 - 0s - loss: 0.6107 - acc: 0.8704 - val_loss: 0.6924 - val_acc: 0.7500\n",
      "Epoch 31/200\n",
      "108/108 - 0s - loss: 0.6018 - acc: 0.8981 - val_loss: 0.6854 - val_acc: 0.8333\n",
      "Epoch 32/200\n",
      "108/108 - 0s - loss: 0.5937 - acc: 0.9444 - val_loss: 0.6790 - val_acc: 0.9167\n",
      "Epoch 33/200\n",
      "108/108 - 0s - loss: 0.5855 - acc: 0.9815 - val_loss: 0.6732 - val_acc: 0.9167\n",
      "Epoch 34/200\n",
      "108/108 - 0s - loss: 0.5785 - acc: 0.9537 - val_loss: 0.6675 - val_acc: 0.9167\n",
      "Epoch 35/200\n",
      "108/108 - 0s - loss: 0.5711 - acc: 0.9630 - val_loss: 0.6621 - val_acc: 0.9167\n",
      "Epoch 36/200\n",
      "108/108 - 0s - loss: 0.5646 - acc: 0.9444 - val_loss: 0.6571 - val_acc: 0.9167\n",
      "Epoch 37/200\n",
      "108/108 - 0s - loss: 0.5586 - acc: 0.9352 - val_loss: 0.6525 - val_acc: 0.9167\n",
      "Epoch 38/200\n",
      "108/108 - 0s - loss: 0.5529 - acc: 0.9259 - val_loss: 0.6482 - val_acc: 0.9167\n",
      "Epoch 39/200\n",
      "108/108 - 0s - loss: 0.5474 - acc: 0.9167 - val_loss: 0.6438 - val_acc: 0.9167\n",
      "Epoch 40/200\n",
      "108/108 - 0s - loss: 0.5423 - acc: 0.8796 - val_loss: 0.6397 - val_acc: 0.9167\n",
      "Epoch 41/200\n",
      "108/108 - 0s - loss: 0.5373 - acc: 0.8796 - val_loss: 0.6358 - val_acc: 0.9167\n",
      "Epoch 42/200\n",
      "108/108 - 0s - loss: 0.5328 - acc: 0.8796 - val_loss: 0.6322 - val_acc: 0.9167\n",
      "Epoch 43/200\n",
      "108/108 - 0s - loss: 0.5283 - acc: 0.8796 - val_loss: 0.6285 - val_acc: 0.9167\n",
      "Epoch 44/200\n",
      "108/108 - 0s - loss: 0.5241 - acc: 0.8796 - val_loss: 0.6254 - val_acc: 0.9167\n",
      "Epoch 45/200\n",
      "108/108 - 0s - loss: 0.5199 - acc: 0.8796 - val_loss: 0.6223 - val_acc: 0.9167\n",
      "Epoch 46/200\n",
      "108/108 - 0s - loss: 0.5160 - acc: 0.8796 - val_loss: 0.6193 - val_acc: 0.9167\n",
      "Epoch 47/200\n",
      "108/108 - 0s - loss: 0.5122 - acc: 0.8796 - val_loss: 0.6161 - val_acc: 0.9167\n",
      "Epoch 48/200\n",
      "108/108 - 0s - loss: 0.5086 - acc: 0.8796 - val_loss: 0.6133 - val_acc: 0.9167\n",
      "Epoch 49/200\n",
      "108/108 - 0s - loss: 0.5050 - acc: 0.8796 - val_loss: 0.6105 - val_acc: 0.9167\n",
      "Epoch 50/200\n",
      "108/108 - 0s - loss: 0.5017 - acc: 0.8796 - val_loss: 0.6077 - val_acc: 0.9167\n",
      "Epoch 51/200\n",
      "108/108 - 0s - loss: 0.4984 - acc: 0.8981 - val_loss: 0.6052 - val_acc: 0.9167\n",
      "Epoch 52/200\n",
      "108/108 - 0s - loss: 0.4951 - acc: 0.9074 - val_loss: 0.6029 - val_acc: 0.9167\n",
      "Epoch 53/200\n",
      "108/108 - 0s - loss: 0.4920 - acc: 0.9167 - val_loss: 0.6008 - val_acc: 0.9167\n",
      "Epoch 54/200\n",
      "108/108 - 0s - loss: 0.4890 - acc: 0.9259 - val_loss: 0.5987 - val_acc: 0.9167\n",
      "Epoch 55/200\n",
      "108/108 - 0s - loss: 0.4861 - acc: 0.9352 - val_loss: 0.5967 - val_acc: 0.9167\n",
      "Epoch 56/200\n",
      "108/108 - 0s - loss: 0.4834 - acc: 0.9444 - val_loss: 0.5944 - val_acc: 0.9167\n",
      "Epoch 57/200\n",
      "108/108 - 0s - loss: 0.4809 - acc: 0.9630 - val_loss: 0.5924 - val_acc: 0.9167\n",
      "Epoch 58/200\n",
      "108/108 - 0s - loss: 0.4781 - acc: 0.9630 - val_loss: 0.5903 - val_acc: 0.9167\n",
      "Epoch 59/200\n",
      "108/108 - 0s - loss: 0.4755 - acc: 0.9630 - val_loss: 0.5883 - val_acc: 0.9167\n",
      "Epoch 60/200\n",
      "108/108 - 0s - loss: 0.4729 - acc: 0.9630 - val_loss: 0.5860 - val_acc: 0.9167\n",
      "Epoch 61/200\n",
      "108/108 - 0s - loss: 0.4705 - acc: 0.9537 - val_loss: 0.5835 - val_acc: 0.9167\n",
      "Epoch 62/200\n",
      "108/108 - 0s - loss: 0.4676 - acc: 0.9444 - val_loss: 0.5812 - val_acc: 0.9167\n",
      "Epoch 63/200\n",
      "108/108 - 0s - loss: 0.4652 - acc: 0.9352 - val_loss: 0.5789 - val_acc: 0.9167\n",
      "Epoch 64/200\n",
      "108/108 - 0s - loss: 0.4628 - acc: 0.9352 - val_loss: 0.5768 - val_acc: 0.9167\n",
      "Epoch 65/200\n",
      "108/108 - 0s - loss: 0.4603 - acc: 0.9352 - val_loss: 0.5749 - val_acc: 0.9167\n",
      "Epoch 66/200\n",
      "108/108 - 0s - loss: 0.4580 - acc: 0.9352 - val_loss: 0.5730 - val_acc: 0.9167\n",
      "Epoch 67/200\n",
      "108/108 - 0s - loss: 0.4557 - acc: 0.9352 - val_loss: 0.5712 - val_acc: 0.9167\n",
      "Epoch 68/200\n",
      "108/108 - 0s - loss: 0.4534 - acc: 0.9352 - val_loss: 0.5689 - val_acc: 0.9167\n",
      "Epoch 69/200\n",
      "108/108 - 0s - loss: 0.4511 - acc: 0.9352 - val_loss: 0.5669 - val_acc: 0.9167\n",
      "Epoch 70/200\n",
      "108/108 - 0s - loss: 0.4491 - acc: 0.9352 - val_loss: 0.5649 - val_acc: 0.9167\n",
      "Epoch 71/200\n",
      "108/108 - 0s - loss: 0.4468 - acc: 0.9352 - val_loss: 0.5630 - val_acc: 0.9167\n",
      "Epoch 72/200\n",
      "108/108 - 0s - loss: 0.4446 - acc: 0.9352 - val_loss: 0.5614 - val_acc: 0.9167\n",
      "Epoch 73/200\n",
      "108/108 - 0s - loss: 0.4424 - acc: 0.9352 - val_loss: 0.5597 - val_acc: 0.9167\n",
      "Epoch 74/200\n",
      "108/108 - 0s - loss: 0.4402 - acc: 0.9444 - val_loss: 0.5580 - val_acc: 0.9167\n",
      "Epoch 75/200\n",
      "108/108 - 0s - loss: 0.4381 - acc: 0.9537 - val_loss: 0.5562 - val_acc: 0.9167\n",
      "Epoch 76/200\n",
      "108/108 - 0s - loss: 0.4359 - acc: 0.9537 - val_loss: 0.5546 - val_acc: 0.9167\n",
      "Epoch 77/200\n",
      "108/108 - 0s - loss: 0.4339 - acc: 0.9537 - val_loss: 0.5529 - val_acc: 0.9167\n",
      "Epoch 78/200\n",
      "108/108 - 0s - loss: 0.4316 - acc: 0.9630 - val_loss: 0.5511 - val_acc: 0.9167\n",
      "Epoch 79/200\n",
      "108/108 - 0s - loss: 0.4295 - acc: 0.9630 - val_loss: 0.5492 - val_acc: 0.9167\n",
      "Epoch 80/200\n",
      "108/108 - 0s - loss: 0.4273 - acc: 0.9537 - val_loss: 0.5473 - val_acc: 0.9167\n",
      "Epoch 81/200\n",
      "108/108 - 0s - loss: 0.4253 - acc: 0.9630 - val_loss: 0.5456 - val_acc: 0.9167\n",
      "Epoch 82/200\n",
      "108/108 - 0s - loss: 0.4230 - acc: 0.9630 - val_loss: 0.5437 - val_acc: 0.9167\n",
      "Epoch 83/200\n",
      "108/108 - 0s - loss: 0.4208 - acc: 0.9630 - val_loss: 0.5416 - val_acc: 0.9167\n",
      "Epoch 84/200\n",
      "108/108 - 0s - loss: 0.4188 - acc: 0.9630 - val_loss: 0.5394 - val_acc: 0.9167\n",
      "Epoch 85/200\n",
      "108/108 - 0s - loss: 0.4166 - acc: 0.9630 - val_loss: 0.5375 - val_acc: 0.9167\n",
      "Epoch 86/200\n",
      "108/108 - 0s - loss: 0.4145 - acc: 0.9630 - val_loss: 0.5355 - val_acc: 0.9167\n",
      "Epoch 87/200\n",
      "108/108 - 0s - loss: 0.4125 - acc: 0.9537 - val_loss: 0.5333 - val_acc: 0.9167\n",
      "Epoch 88/200\n",
      "108/108 - 0s - loss: 0.4102 - acc: 0.9630 - val_loss: 0.5317 - val_acc: 0.9167\n",
      "Epoch 89/200\n",
      "108/108 - 0s - loss: 0.4083 - acc: 0.9630 - val_loss: 0.5298 - val_acc: 0.9167\n"
     ]
    },
    {
     "name": "stdout",
     "output_type": "stream",
     "text": [
      "Epoch 90/200\n",
      "108/108 - 0s - loss: 0.4061 - acc: 0.9630 - val_loss: 0.5271 - val_acc: 0.9167\n",
      "Epoch 91/200\n",
      "108/108 - 0s - loss: 0.4037 - acc: 0.9630 - val_loss: 0.5246 - val_acc: 0.9167\n",
      "Epoch 92/200\n",
      "108/108 - 0s - loss: 0.4019 - acc: 0.9537 - val_loss: 0.5222 - val_acc: 0.9167\n",
      "Epoch 93/200\n",
      "108/108 - 0s - loss: 0.3996 - acc: 0.9537 - val_loss: 0.5200 - val_acc: 0.9167\n",
      "Epoch 94/200\n",
      "108/108 - 0s - loss: 0.3981 - acc: 0.9630 - val_loss: 0.5180 - val_acc: 0.9167\n",
      "Epoch 95/200\n",
      "108/108 - 0s - loss: 0.3954 - acc: 0.9630 - val_loss: 0.5156 - val_acc: 0.9167\n",
      "Epoch 96/200\n",
      "108/108 - 0s - loss: 0.3932 - acc: 0.9630 - val_loss: 0.5134 - val_acc: 0.9167\n",
      "Epoch 97/200\n",
      "108/108 - 0s - loss: 0.3911 - acc: 0.9630 - val_loss: 0.5112 - val_acc: 0.9167\n",
      "Epoch 98/200\n",
      "108/108 - 0s - loss: 0.3888 - acc: 0.9630 - val_loss: 0.5093 - val_acc: 0.9167\n",
      "Epoch 99/200\n",
      "108/108 - 0s - loss: 0.3867 - acc: 0.9630 - val_loss: 0.5074 - val_acc: 0.9167\n",
      "Epoch 100/200\n",
      "108/108 - 0s - loss: 0.3844 - acc: 0.9630 - val_loss: 0.5055 - val_acc: 0.9167\n",
      "Epoch 101/200\n",
      "108/108 - 0s - loss: 0.3826 - acc: 0.9722 - val_loss: 0.5038 - val_acc: 0.9167\n",
      "Epoch 102/200\n",
      "108/108 - 0s - loss: 0.3802 - acc: 0.9722 - val_loss: 0.5010 - val_acc: 0.9167\n",
      "Epoch 103/200\n",
      "108/108 - 0s - loss: 0.3782 - acc: 0.9722 - val_loss: 0.4975 - val_acc: 0.9167\n",
      "Epoch 104/200\n",
      "108/108 - 0s - loss: 0.3758 - acc: 0.9630 - val_loss: 0.4946 - val_acc: 0.9167\n",
      "Epoch 105/200\n",
      "108/108 - 0s - loss: 0.3733 - acc: 0.9630 - val_loss: 0.4921 - val_acc: 0.9167\n",
      "Epoch 106/200\n",
      "108/108 - 0s - loss: 0.3711 - acc: 0.9630 - val_loss: 0.4895 - val_acc: 0.9167\n",
      "Epoch 107/200\n",
      "108/108 - 0s - loss: 0.3687 - acc: 0.9630 - val_loss: 0.4870 - val_acc: 0.9167\n",
      "Epoch 108/200\n",
      "108/108 - 0s - loss: 0.3663 - acc: 0.9630 - val_loss: 0.4843 - val_acc: 0.9167\n",
      "Epoch 109/200\n",
      "108/108 - 0s - loss: 0.3639 - acc: 0.9630 - val_loss: 0.4816 - val_acc: 0.9167\n",
      "Epoch 110/200\n",
      "108/108 - 0s - loss: 0.3617 - acc: 0.9722 - val_loss: 0.4793 - val_acc: 0.9167\n",
      "Epoch 111/200\n",
      "108/108 - 0s - loss: 0.3591 - acc: 0.9722 - val_loss: 0.4770 - val_acc: 0.9167\n",
      "Epoch 112/200\n",
      "108/108 - 0s - loss: 0.3567 - acc: 0.9722 - val_loss: 0.4743 - val_acc: 0.9167\n",
      "Epoch 113/200\n",
      "108/108 - 0s - loss: 0.3544 - acc: 0.9722 - val_loss: 0.4716 - val_acc: 0.9167\n",
      "Epoch 114/200\n",
      "108/108 - 0s - loss: 0.3519 - acc: 0.9722 - val_loss: 0.4685 - val_acc: 0.9167\n",
      "Epoch 115/200\n",
      "108/108 - 0s - loss: 0.3495 - acc: 0.9722 - val_loss: 0.4652 - val_acc: 0.9167\n",
      "Epoch 116/200\n",
      "108/108 - 0s - loss: 0.3470 - acc: 0.9722 - val_loss: 0.4620 - val_acc: 0.9167\n",
      "Epoch 117/200\n",
      "108/108 - 0s - loss: 0.3447 - acc: 0.9630 - val_loss: 0.4588 - val_acc: 0.9167\n",
      "Epoch 118/200\n",
      "108/108 - 0s - loss: 0.3432 - acc: 0.9630 - val_loss: 0.4556 - val_acc: 0.9167\n",
      "Epoch 119/200\n",
      "108/108 - 0s - loss: 0.3400 - acc: 0.9630 - val_loss: 0.4532 - val_acc: 0.9167\n",
      "Epoch 120/200\n",
      "108/108 - 0s - loss: 0.3371 - acc: 0.9722 - val_loss: 0.4508 - val_acc: 0.9167\n",
      "Epoch 121/200\n",
      "108/108 - 0s - loss: 0.3346 - acc: 0.9722 - val_loss: 0.4485 - val_acc: 0.9167\n",
      "Epoch 122/200\n",
      "108/108 - 0s - loss: 0.3324 - acc: 0.9722 - val_loss: 0.4457 - val_acc: 0.9167\n",
      "Epoch 123/200\n",
      "108/108 - 0s - loss: 0.3301 - acc: 0.9722 - val_loss: 0.4426 - val_acc: 0.9167\n",
      "Epoch 124/200\n",
      "108/108 - 0s - loss: 0.3275 - acc: 0.9722 - val_loss: 0.4397 - val_acc: 0.9167\n",
      "Epoch 125/200\n",
      "108/108 - 0s - loss: 0.3248 - acc: 0.9722 - val_loss: 0.4355 - val_acc: 0.9167\n",
      "Epoch 126/200\n",
      "108/108 - 0s - loss: 0.3224 - acc: 0.9722 - val_loss: 0.4314 - val_acc: 0.9167\n",
      "Epoch 127/200\n",
      "108/108 - 0s - loss: 0.3199 - acc: 0.9722 - val_loss: 0.4281 - val_acc: 0.9167\n",
      "Epoch 128/200\n",
      "108/108 - 0s - loss: 0.3175 - acc: 0.9722 - val_loss: 0.4250 - val_acc: 0.9167\n",
      "Epoch 129/200\n",
      "108/108 - 0s - loss: 0.3150 - acc: 0.9722 - val_loss: 0.4219 - val_acc: 0.9167\n",
      "Epoch 130/200\n",
      "108/108 - 0s - loss: 0.3122 - acc: 0.9722 - val_loss: 0.4187 - val_acc: 0.9167\n",
      "Epoch 131/200\n",
      "108/108 - 0s - loss: 0.3096 - acc: 0.9722 - val_loss: 0.4156 - val_acc: 0.9167\n",
      "Epoch 132/200\n",
      "108/108 - 0s - loss: 0.3070 - acc: 0.9722 - val_loss: 0.4125 - val_acc: 0.9167\n",
      "Epoch 133/200\n",
      "108/108 - 0s - loss: 0.3048 - acc: 0.9722 - val_loss: 0.4101 - val_acc: 0.9167\n",
      "Epoch 134/200\n",
      "108/108 - 0s - loss: 0.3017 - acc: 0.9722 - val_loss: 0.4061 - val_acc: 0.9167\n",
      "Epoch 135/200\n",
      "108/108 - 0s - loss: 0.2992 - acc: 0.9722 - val_loss: 0.4024 - val_acc: 0.9167\n",
      "Epoch 136/200\n",
      "108/108 - 0s - loss: 0.2962 - acc: 0.9722 - val_loss: 0.4002 - val_acc: 0.9167\n",
      "Epoch 137/200\n",
      "108/108 - 0s - loss: 0.2941 - acc: 0.9722 - val_loss: 0.3972 - val_acc: 0.9167\n",
      "Epoch 138/200\n",
      "108/108 - 0s - loss: 0.2914 - acc: 0.9722 - val_loss: 0.3961 - val_acc: 1.0000\n",
      "Epoch 139/200\n",
      "108/108 - 0s - loss: 0.2898 - acc: 0.9630 - val_loss: 0.3934 - val_acc: 1.0000\n",
      "Epoch 140/200\n",
      "108/108 - 0s - loss: 0.2871 - acc: 0.9537 - val_loss: 0.3887 - val_acc: 1.0000\n",
      "Epoch 141/200\n",
      "108/108 - 0s - loss: 0.2847 - acc: 0.9722 - val_loss: 0.3818 - val_acc: 0.9167\n",
      "Epoch 142/200\n",
      "108/108 - 0s - loss: 0.2808 - acc: 0.9722 - val_loss: 0.3775 - val_acc: 0.9167\n",
      "Epoch 143/200\n",
      "108/108 - 0s - loss: 0.2787 - acc: 0.9722 - val_loss: 0.3736 - val_acc: 0.9167\n",
      "Epoch 144/200\n",
      "108/108 - 0s - loss: 0.2762 - acc: 0.9722 - val_loss: 0.3703 - val_acc: 0.9167\n",
      "Epoch 145/200\n",
      "108/108 - 0s - loss: 0.2733 - acc: 0.9722 - val_loss: 0.3670 - val_acc: 0.9167\n",
      "Epoch 146/200\n",
      "108/108 - 0s - loss: 0.2704 - acc: 0.9722 - val_loss: 0.3642 - val_acc: 0.9167\n",
      "Epoch 147/200\n",
      "108/108 - 0s - loss: 0.2675 - acc: 0.9722 - val_loss: 0.3632 - val_acc: 1.0000\n",
      "Epoch 148/200\n",
      "108/108 - 0s - loss: 0.2659 - acc: 0.9630 - val_loss: 0.3611 - val_acc: 1.0000\n",
      "Epoch 149/200\n",
      "108/108 - 0s - loss: 0.2634 - acc: 0.9537 - val_loss: 0.3565 - val_acc: 1.0000\n",
      "Epoch 150/200\n",
      "108/108 - 0s - loss: 0.2603 - acc: 0.9722 - val_loss: 0.3508 - val_acc: 1.0000\n",
      "Epoch 151/200\n",
      "108/108 - 0s - loss: 0.2577 - acc: 0.9722 - val_loss: 0.3462 - val_acc: 0.9167\n",
      "Epoch 152/200\n",
      "108/108 - 0s - loss: 0.2560 - acc: 0.9722 - val_loss: 0.3437 - val_acc: 1.0000\n",
      "Epoch 153/200\n",
      "108/108 - 0s - loss: 0.2526 - acc: 0.9722 - val_loss: 0.3389 - val_acc: 1.0000\n",
      "Epoch 154/200\n",
      "108/108 - 0s - loss: 0.2500 - acc: 0.9722 - val_loss: 0.3345 - val_acc: 0.9167\n",
      "Epoch 155/200\n",
      "108/108 - 0s - loss: 0.2482 - acc: 0.9722 - val_loss: 0.3307 - val_acc: 0.9167\n",
      "Epoch 156/200\n",
      "108/108 - 0s - loss: 0.2452 - acc: 0.9722 - val_loss: 0.3282 - val_acc: 1.0000\n",
      "Epoch 157/200\n",
      "108/108 - 0s - loss: 0.2425 - acc: 0.9722 - val_loss: 0.3270 - val_acc: 1.0000\n",
      "Epoch 158/200\n",
      "108/108 - 0s - loss: 0.2404 - acc: 0.9722 - val_loss: 0.3244 - val_acc: 1.0000\n",
      "Epoch 159/200\n",
      "108/108 - 0s - loss: 0.2377 - acc: 0.9722 - val_loss: 0.3192 - val_acc: 1.0000\n",
      "Epoch 160/200\n",
      "108/108 - 0s - loss: 0.2354 - acc: 0.9722 - val_loss: 0.3142 - val_acc: 1.0000\n",
      "Epoch 161/200\n",
      "108/108 - 0s - loss: 0.2327 - acc: 0.9722 - val_loss: 0.3111 - val_acc: 1.0000\n",
      "Epoch 162/200\n",
      "108/108 - 0s - loss: 0.2306 - acc: 0.9722 - val_loss: 0.3082 - val_acc: 1.0000\n",
      "Epoch 163/200\n",
      "108/108 - 0s - loss: 0.2279 - acc: 0.9722 - val_loss: 0.3070 - val_acc: 1.0000\n",
      "Epoch 164/200\n",
      "108/108 - 0s - loss: 0.2259 - acc: 0.9722 - val_loss: 0.3050 - val_acc: 1.0000\n",
      "Epoch 165/200\n",
      "108/108 - 0s - loss: 0.2239 - acc: 0.9722 - val_loss: 0.3019 - val_acc: 1.0000\n",
      "Epoch 166/200\n",
      "108/108 - 0s - loss: 0.2216 - acc: 0.9722 - val_loss: 0.2964 - val_acc: 1.0000\n",
      "Epoch 167/200\n",
      "108/108 - 0s - loss: 0.2196 - acc: 0.9722 - val_loss: 0.2916 - val_acc: 1.0000\n",
      "Epoch 168/200\n",
      "108/108 - 0s - loss: 0.2174 - acc: 0.9722 - val_loss: 0.2879 - val_acc: 1.0000\n",
      "Epoch 169/200\n",
      "108/108 - 0s - loss: 0.2149 - acc: 0.9722 - val_loss: 0.2855 - val_acc: 1.0000\n",
      "Epoch 170/200\n",
      "108/108 - 0s - loss: 0.2127 - acc: 0.9722 - val_loss: 0.2826 - val_acc: 1.0000\n",
      "Epoch 171/200\n",
      "108/108 - 0s - loss: 0.2104 - acc: 0.9722 - val_loss: 0.2810 - val_acc: 1.0000\n",
      "Epoch 172/200\n",
      "108/108 - 0s - loss: 0.2082 - acc: 0.9722 - val_loss: 0.2804 - val_acc: 1.0000\n",
      "Epoch 173/200\n",
      "108/108 - 0s - loss: 0.2070 - acc: 0.9722 - val_loss: 0.2788 - val_acc: 1.0000\n",
      "Epoch 174/200\n",
      "108/108 - 0s - loss: 0.2050 - acc: 0.9722 - val_loss: 0.2737 - val_acc: 1.0000\n",
      "Epoch 175/200\n",
      "108/108 - 0s - loss: 0.2024 - acc: 0.9815 - val_loss: 0.2694 - val_acc: 1.0000\n",
      "Epoch 176/200\n",
      "108/108 - 0s - loss: 0.2002 - acc: 0.9722 - val_loss: 0.2647 - val_acc: 1.0000\n",
      "Epoch 177/200\n",
      "108/108 - 0s - loss: 0.1985 - acc: 0.9722 - val_loss: 0.2605 - val_acc: 1.0000\n",
      "Epoch 178/200\n",
      "108/108 - 0s - loss: 0.1974 - acc: 0.9722 - val_loss: 0.2577 - val_acc: 1.0000\n"
     ]
    },
    {
     "name": "stdout",
     "output_type": "stream",
     "text": [
      "Epoch 179/200\n",
      "108/108 - 0s - loss: 0.1954 - acc: 0.9722 - val_loss: 0.2556 - val_acc: 1.0000\n",
      "Epoch 180/200\n",
      "108/108 - 0s - loss: 0.1931 - acc: 0.9722 - val_loss: 0.2537 - val_acc: 1.0000\n",
      "Epoch 181/200\n",
      "108/108 - 0s - loss: 0.1910 - acc: 0.9722 - val_loss: 0.2513 - val_acc: 1.0000\n",
      "Epoch 182/200\n",
      "108/108 - 0s - loss: 0.1888 - acc: 0.9722 - val_loss: 0.2509 - val_acc: 1.0000\n",
      "Epoch 183/200\n",
      "108/108 - 0s - loss: 0.1871 - acc: 0.9722 - val_loss: 0.2512 - val_acc: 1.0000\n",
      "Epoch 184/200\n",
      "108/108 - 0s - loss: 0.1864 - acc: 0.9630 - val_loss: 0.2508 - val_acc: 1.0000\n",
      "Epoch 185/200\n",
      "108/108 - 0s - loss: 0.1854 - acc: 0.9630 - val_loss: 0.2444 - val_acc: 1.0000\n",
      "Epoch 186/200\n",
      "108/108 - 0s - loss: 0.1828 - acc: 0.9722 - val_loss: 0.2419 - val_acc: 1.0000\n",
      "Epoch 187/200\n",
      "108/108 - 0s - loss: 0.1804 - acc: 0.9722 - val_loss: 0.2366 - val_acc: 1.0000\n",
      "Epoch 188/200\n",
      "108/108 - 0s - loss: 0.1788 - acc: 0.9815 - val_loss: 0.2317 - val_acc: 1.0000\n",
      "Epoch 189/200\n",
      "108/108 - 0s - loss: 0.1775 - acc: 0.9722 - val_loss: 0.2290 - val_acc: 1.0000\n",
      "Epoch 190/200\n",
      "108/108 - 0s - loss: 0.1765 - acc: 0.9722 - val_loss: 0.2262 - val_acc: 1.0000\n",
      "Epoch 191/200\n",
      "108/108 - 0s - loss: 0.1752 - acc: 0.9722 - val_loss: 0.2258 - val_acc: 1.0000\n",
      "Epoch 192/200\n",
      "108/108 - 0s - loss: 0.1726 - acc: 0.9722 - val_loss: 0.2238 - val_acc: 1.0000\n",
      "Epoch 193/200\n",
      "108/108 - 0s - loss: 0.1708 - acc: 0.9722 - val_loss: 0.2200 - val_acc: 1.0000\n",
      "Epoch 194/200\n",
      "108/108 - 0s - loss: 0.1696 - acc: 0.9722 - val_loss: 0.2176 - val_acc: 1.0000\n",
      "Epoch 195/200\n",
      "108/108 - 0s - loss: 0.1686 - acc: 0.9722 - val_loss: 0.2150 - val_acc: 1.0000\n",
      "Epoch 196/200\n",
      "108/108 - 0s - loss: 0.1665 - acc: 0.9722 - val_loss: 0.2147 - val_acc: 1.0000\n",
      "Epoch 197/200\n",
      "108/108 - 0s - loss: 0.1649 - acc: 0.9815 - val_loss: 0.2143 - val_acc: 1.0000\n",
      "Epoch 198/200\n",
      "108/108 - 0s - loss: 0.1638 - acc: 0.9722 - val_loss: 0.2118 - val_acc: 1.0000\n",
      "Epoch 199/200\n",
      "108/108 - 0s - loss: 0.1624 - acc: 0.9722 - val_loss: 0.2115 - val_acc: 1.0000\n",
      "Epoch 200/200\n",
      "108/108 - 0s - loss: 0.1608 - acc: 0.9722 - val_loss: 0.2088 - val_acc: 1.0000\n"
     ]
    }
   ],
   "source": [
    "#model = model()\n",
    "history = model.fit(\n",
    "       X_train,\n",
    "       y_train,\n",
    "       validation_split=.1,\n",
    "       epochs=200,\n",
    "       shuffle=True, # shuffle data randomly.\n",
    "       #NNs perform best on randomly shuffled data\n",
    "       verbose=2 # this will tell keras to print more detailed info\n",
    "       # during trainnig to know what is going on\n",
    "       )"
   ]
  },
  {
   "cell_type": "markdown",
   "metadata": {},
   "source": [
    "activation=tanh\n",
    "epoch200 -> 100%acc\n",
    "epoch100 -> 100%acc\n",
    "epoch4 -> 30%acc\n",
    "epoch50 -> 87%acc\n",
    "epoch75 ->83%acc\n",
    "epoch90 ->90%acc\n",
    "epoch100 ->86.67%acc\n",
    "epoch100 ->90%acc\n",
    "epoch200 ->96.6%acc\n",
    "\n",
    "\n",
    "activation=relu\n",
    "epoch100 ->93%acc\n"
   ]
  },
  {
   "cell_type": "markdown",
   "metadata": {},
   "source": [
    "<h5>Optional micro detail:</h5>\n",
    "<ol>\n",
    "    <li>\n",
    "        Input layer(layer_1) has 4 inputs corresponding to 4 feature columns in X_train. <br> The output_layer has 3 outputs for the three classes in target. </li>\n",
    "    <li>\n",
    "        You can try different activation functions in layer_1, layer_2 and layer_3 like sigmoid or relu. <br>Sometimes choice of activation function affects the results a great deal. In most cases, you will be using non-linear activation functions like tanh, sigmoid or relu.</li>\n",
    "    <li>\n",
    "        <b>metrics=[‘accuracy’]:</b> Here default accuracy is used which is categorical_accuracy. Some other accuracy settings are binary_accuracy, sparse_categorical_accuracy etc. Default is the most appropriate here. </li>\n",
    "    </ol>"
   ]
  },
  {
   "cell_type": "markdown",
   "metadata": {},
   "source": [
    "### STEP 5 : Evaluation "
   ]
  },
  {
   "cell_type": "code",
   "execution_count": 159,
   "metadata": {},
   "outputs": [
    {
     "name": "stdout",
     "output_type": "stream",
     "text": [
      "30/30 - 0s - loss: 0.1750 - acc: 0.9667\n"
     ]
    },
    {
     "data": {
      "text/plain": [
       "[0.17496968805789948, 0.96666664]"
      ]
     },
     "execution_count": 159,
     "metadata": {},
     "output_type": "execute_result"
    }
   ],
   "source": [
    "test_error_rate = model.evaluate(X_test, y_test, verbose=2)\n",
    "test_error_rate"
   ]
  },
  {
   "cell_type": "code",
   "execution_count": 160,
   "metadata": {},
   "outputs": [
    {
     "name": "stdout",
     "output_type": "stream",
     "text": [
      "acc : 96.67%\n",
      "loss : 17.50%\n"
     ]
    }
   ],
   "source": [
    "print(\n",
    "      \"{} : {:.2f}%\".format(model.metrics_names[1],\n",
    "              test_error_rate[1]*100))\n",
    "print(\n",
    "      \"{} : {:.2f}%\".format(model.metrics_names[0],\n",
    "              test_error_rate[0]*100))\n",
    "#You can run the code again to see how the model perform"
   ]
  },
  {
   "cell_type": "markdown",
   "metadata": {},
   "source": [
    "tanh : acc : 97.78% loss : 33.21% <br>\n",
    "<h5>achieved</h5>"
   ]
  },
  {
   "cell_type": "markdown",
   "metadata": {},
   "source": [
    "### STEP 6 : Prediction "
   ]
  },
  {
   "cell_type": "code",
   "execution_count": 33,
   "metadata": {
    "scrolled": true
   },
   "outputs": [
    {
     "data": {
      "text/plain": [
       "array([1, 0, 2, 1, 1, 0, 1, 2, 1, 1, 2, 0, 0, 0, 0, 1, 2, 1, 1, 2, 0, 2,\n",
       "       0, 2, 2, 2, 2, 2, 0, 0], dtype=int64)"
      ]
     },
     "execution_count": 33,
     "metadata": {},
     "output_type": "execute_result"
    }
   ],
   "source": [
    "predicted_targets = model.predict_classes(X_test)\n",
    "predicted_targets"
   ]
  },
  {
   "cell_type": "code",
   "execution_count": 34,
   "metadata": {},
   "outputs": [
    {
     "data": {
      "text/plain": [
       "array([1, 0, 2, 1, 1, 0, 1, 2, 1, 1, 2, 0, 0, 0, 0, 1, 2, 1, 1, 2, 0, 2,\n",
       "       0, 2, 2, 2, 2, 2, 0, 0], dtype=int64)"
      ]
     },
     "execution_count": 34,
     "metadata": {},
     "output_type": "execute_result"
    }
   ],
   "source": [
    "#true_targets = encoder.inverse_transform(y_test.values)\n",
    "#true_targets\n",
    "true_targets = np.argmax(y_test.values, axis=1)\n",
    "true_targets"
   ]
  },
  {
   "cell_type": "code",
   "execution_count": 35,
   "metadata": {},
   "outputs": [
    {
     "name": "stdout",
     "output_type": "stream",
     "text": [
      "Flowers in test set: Setosa=10.0 Versicolor=9.0 Virginica=11.0\n"
     ]
    }
   ],
   "source": [
    "#performance_tracker(predicted_targets, true_targets)\n",
    "#flowers = {0:'Setosa', 1:'Versicolor', 2:'Virginica'}\n",
    "print(\"Flowers in test set: Setosa={} Versicolor={} Virginica={}\".format(\n",
    "            y_test.Setosa.sum(), y_test.Versicolor.sum(),\n",
    "            y_test.Virginica.sum()))"
   ]
  },
  {
   "cell_type": "code",
   "execution_count": 36,
   "metadata": {},
   "outputs": [
    {
     "name": "stdout",
     "output_type": "stream",
     "text": [
      "CORRECT: Versicolor predicted as Versicolor\n",
      "CORRECT: Setosa predicted as Setosa\n",
      "CORRECT: Virginica predicted as Virginica\n",
      "CORRECT: Versicolor predicted as Versicolor\n",
      "CORRECT: Versicolor predicted as Versicolor\n",
      "CORRECT: Setosa predicted as Setosa\n",
      "CORRECT: Versicolor predicted as Versicolor\n",
      "CORRECT: Virginica predicted as Virginica\n",
      "CORRECT: Versicolor predicted as Versicolor\n",
      "CORRECT: Versicolor predicted as Versicolor\n",
      "CORRECT: Virginica predicted as Virginica\n",
      "CORRECT: Setosa predicted as Setosa\n",
      "CORRECT: Setosa predicted as Setosa\n",
      "CORRECT: Setosa predicted as Setosa\n",
      "CORRECT: Setosa predicted as Setosa\n",
      "CORRECT: Versicolor predicted as Versicolor\n",
      "CORRECT: Virginica predicted as Virginica\n",
      "CORRECT: Versicolor predicted as Versicolor\n",
      "CORRECT: Versicolor predicted as Versicolor\n",
      "CORRECT: Virginica predicted as Virginica\n",
      "CORRECT: Setosa predicted as Setosa\n",
      "CORRECT: Virginica predicted as Virginica\n",
      "CORRECT: Setosa predicted as Setosa\n",
      "CORRECT: Virginica predicted as Virginica\n",
      "CORRECT: Virginica predicted as Virginica\n",
      "CORRECT: Virginica predicted as Virginica\n",
      "CORRECT: Virginica predicted as Virginica\n",
      "CORRECT: Virginica predicted as Virginica\n",
      "CORRECT: Setosa predicted as Setosa\n",
      "CORRECT: Setosa predicted as Setosa\n"
     ]
    }
   ],
   "source": [
    "for act,exp in zip(predicted_targets, true_targets):\n",
    "        #tup = np.where(exp == 1)\n",
    "        if act != exp: #tup[0][0]\n",
    "            print(\"ERROR: {} predicted as {}\".format(variety[exp],\n",
    "                  variety[act]))\n",
    "        else:\n",
    "            print(\"CORRECT: {} predicted as {}\".format(variety[exp],\n",
    "                  variety[act]))"
   ]
  },
  {
   "cell_type": "code",
   "execution_count": 37,
   "metadata": {},
   "outputs": [
    {
     "data": {
      "text/plain": [
       "dict_keys(['loss', 'acc', 'val_loss', 'val_acc'])"
      ]
     },
     "execution_count": 37,
     "metadata": {},
     "output_type": "execute_result"
    }
   ],
   "source": [
    "history.history.keys()"
   ]
  },
  {
   "cell_type": "code",
   "execution_count": 38,
   "metadata": {},
   "outputs": [],
   "source": [
    "#results"
   ]
  },
  {
   "cell_type": "code",
   "execution_count": 39,
   "metadata": {},
   "outputs": [
    {
     "data": {
      "image/png": "[encoded data removed]",
      "text/plain": [
       "<Figure size 432x288 with 1 Axes>"
      ]
     },
     "metadata": {
      "needs_background": "light"
     },
     "output_type": "display_data"
    }
   ],
   "source": [
    "# # summarize history for accuracy\n",
    "plt.plot(history.history['acc'])\n",
    "plt.plot(history.history['val_acc'])\n",
    "plt.title('model accuracy')\n",
    "plt.ylabel('accuracy')\n",
    "plt.xlabel('epoch')\n",
    "plt.legend(['train', 'test'], loc='upper left')\n",
    "plt.show()"
   ]
  },
  {
   "cell_type": "code",
   "execution_count": 40,
   "metadata": {},
   "outputs": [
    {
     "data": {
      "image/png": "[encoded data removed]",
      "text/plain": [
       "<Figure size 432x288 with 1 Axes>"
      ]
     },
     "metadata": {
      "needs_background": "light"
     },
     "output_type": "display_data"
    }
   ],
   "source": [
    "# summarize history for loss\n",
    "plt.plot(history.history['loss'])\n",
    "plt.plot(history.history['loss'])\n",
    "plt.title('model loss')\n",
    "plt.ylabel('loss')\n",
    "plt.xlabel('epoch')\n",
    "plt.legend(['train', 'test'], loc='upper left')\n",
    "plt.show()"
   ]
  },
  {
   "cell_type": "code",
   "execution_count": 51,
   "metadata": {},
   "outputs": [],
   "source": [
    "#import seaborn as sns\n"
   ]
  },
  {
   "cell_type": "code",
   "execution_count": 52,
   "metadata": {},
   "outputs": [],
   "source": [
    "#from subprocess import check_output"
   ]
  },
  {
   "cell_type": "code",
   "execution_count": 53,
   "metadata": {},
   "outputs": [],
   "source": [
    "#iris = pd.read_csv(\"Iris.csv\") #load the dataset"
   ]
  },
  {
   "cell_type": "code",
   "execution_count": 54,
   "metadata": {},
   "outputs": [],
   "source": [
    "#iris.head(2) #show the first 2 rows from the dataset"
   ]
  },
  {
   "cell_type": "code",
   "execution_count": 56,
   "metadata": {},
   "outputs": [],
   "source": [
    "#iris.info()  #checking if there is any inconsistency in the dataset\n",
    "#as we see there are no null values in the dataset, so the data can be processed"
   ]
  },
  {
   "cell_type": "code",
   "execution_count": 57,
   "metadata": {},
   "outputs": [],
   "source": [
    "#iris.head()"
   ]
  },
  {
   "cell_type": "code",
   "execution_count": 58,
   "metadata": {
    "scrolled": true
   },
   "outputs": [],
   "source": [
    "# fig = iris[iris.variety=='Setosa'].plot(kind='scatter',x='sepal.length',y='sepal.width',color='orange', label='Setosa')\n",
    "# iris[iris.variety=='Versicolor'].plot(kind='scatter',x='sepal.length',y='sepal.width',color='blue', label='Versicolor', ax=fig)\n",
    "# iris[iris.variety=='Virginica'].plot(kind='scatter',x='sepal.length',y='sepal.width',color='green', label='Virginica', ax=fig)\n",
    "# fig.set_xlabel(\"Sepal Length\")\n",
    "# fig.set_ylabel(\"Sepal Width\")\n",
    "# fig.set_title(\"Sepal Length VS Width\")\n",
    "# fig=plt.gcf()\n",
    "# fig.set_size_inches(10,6)\n",
    "# plt.show()"
   ]
  },
  {
   "cell_type": "code",
   "execution_count": 59,
   "metadata": {},
   "outputs": [],
   "source": [
    "# fig = iris[iris.variety=='Setosa'].plot.scatter(x='petal.length',y='petal.width',color='orange', label='Setosa')\n",
    "# iris[iris.variety=='Versicolor'].plot.scatter(x='petal.length',y='petal.width',color='blue', label='Versicolor',ax=fig)\n",
    "# iris[iris.variety=='Virginica'].plot.scatter(x='petal.length',y='petal.width',color='green', label='Virginica', ax=fig)\n",
    "# fig.set_xlabel(\"Petal Length\")\n",
    "# fig.set_ylabel(\"Petal Width\")\n",
    "# fig.set_title(\" Petal Length VS Width\")\n",
    "# fig=plt.gcf()\n",
    "# fig.set_size_inches(10,6)\n",
    "# plt.show()"
   ]
  },
  {
   "cell_type": "code",
   "execution_count": 60,
   "metadata": {},
   "outputs": [],
   "source": [
    "# iris.hist(edgecolor='black', linewidth=1.2)\n",
    "# fig=plt.gcf()\n",
    "# fig.set_size_inches(12,6)\n",
    "# plt.show()"
   ]
  },
  {
   "cell_type": "code",
   "execution_count": 61,
   "metadata": {},
   "outputs": [],
   "source": [
    "# plt.figure(figsize=(15,10))\n",
    "# plt.subplot(2,2,1)\n",
    "# sns.violinplot(x='variety',y='petal.length',data=iris)\n",
    "# plt.subplot(2,2,2)\n",
    "# sns.violinplot(x='variety',y='petal.width',data=iris)\n",
    "# plt.subplot(2,2,3)\n",
    "# sns.violinplot(x='variety',y='sepal.length',data=iris)\n",
    "# plt.subplot(2,2,4)\n",
    "# sns.violinplot(x='variety',y='sepal.width',data=iris)"
   ]
  },
  {
   "cell_type": "code",
   "execution_count": 62,
   "metadata": {},
   "outputs": [],
   "source": [
    "# importing alll the necessary packages to use the various classification algorithms\n",
    "# from sklearn.linear_model import LogisticRegression  # for Logistic Regression algorithm\n",
    "# from sklearn.model_selection import train_test_split #to split the dataset for training and testing\n",
    "# from sklearn.neighbors import KNeighborsClassifier  # for K nearest neighbours\n",
    "# from sklearn import svm  #for Support Vector Machine (SVM) Algorithm\n",
    "# from sklearn import metrics #for checking the model accuracy\n",
    "# from sklearn.tree import DecisionTreeClassifier #for using Decision Tree Algoithm"
   ]
  },
  {
   "cell_type": "code",
   "execution_count": 63,
   "metadata": {},
   "outputs": [],
   "source": [
    "#iris.shape #get the shape of the dataset"
   ]
  },
  {
   "cell_type": "code",
   "execution_count": 64,
   "metadata": {},
   "outputs": [],
   "source": [
    "# plt.figure(figsize=(7,4)) \n",
    "# sns.heatmap(iris.corr(),annot=True,cmap='cubehelix_r') #draws  heatmap with input as the correlation matrix calculted by(iris.corr())\n",
    "# plt.show()"
   ]
  },
  {
   "cell_type": "code",
   "execution_count": 65,
   "metadata": {},
   "outputs": [],
   "source": [
    "# train, test = train_test_split(iris, test_size = 0.3)# in this our main data is split into train and test\n",
    "# # the attribute test_size=0.3 splits the data into 70% and 30% ratio. train=70% and test=30%\n",
    "# print(train.shape)\n",
    "# print(test.shape)"
   ]
  },
  {
   "cell_type": "code",
   "execution_count": 66,
   "metadata": {},
   "outputs": [],
   "source": [
    "# train_X = train[['sepal.length','sepal.width','petal.length','petal.width']]# taking the training data features\n",
    "# train_y=train.variety# output of our training data\n",
    "# test_X= test[['sepal.length','sepal.width','petal.length','petal.width']] # taking test data features\n",
    "# test_y =test.variety  #output value of test data"
   ]
  },
  {
   "cell_type": "code",
   "execution_count": 67,
   "metadata": {},
   "outputs": [],
   "source": [
    "#train_X.head(2)"
   ]
  },
  {
   "cell_type": "code",
   "execution_count": 68,
   "metadata": {},
   "outputs": [],
   "source": [
    "#test_X.head(2)"
   ]
  },
  {
   "cell_type": "code",
   "execution_count": 69,
   "metadata": {
    "scrolled": true
   },
   "outputs": [],
   "source": [
    "#train_y.head()  ##output of the training data"
   ]
  },
  {
   "cell_type": "markdown",
   "metadata": {},
   "source": [
    "<h3>Support Vector Machine (SVM)</h3>"
   ]
  },
  {
   "cell_type": "code",
   "execution_count": 70,
   "metadata": {},
   "outputs": [],
   "source": [
    "# model = svm.SVC() #select the algorithm\n",
    "# model.fit(train_X,train_y) # we train the algorithm with the training data and the training output\n",
    "# prediction=model.predict(test_X) #now we pass the testing data to the trained algorithm\n",
    "# print('The accuracy of the SVM is:',metrics.accuracy_score(prediction,test_y))#now we check the accuracy of the algorithm. \n",
    "# #we pass the predicted output by the model and the actual output"
   ]
  },
  {
   "cell_type": "markdown",
   "metadata": {},
   "source": [
    "<h3>Logistic Regression</h3>"
   ]
  },
  {
   "cell_type": "code",
   "execution_count": 71,
   "metadata": {},
   "outputs": [],
   "source": [
    "# model = LogisticRegression()\n",
    "# model.fit(train_X,train_y)\n",
    "# prediction=model.predict(test_X)\n",
    "# print('The accuracy of the Logistic Regression is',metrics.accuracy_score(prediction,test_y))"
   ]
  },
  {
   "cell_type": "markdown",
   "metadata": {},
   "source": [
    "<h3>Decision Tree</h3>"
   ]
  },
  {
   "cell_type": "code",
   "execution_count": 72,
   "metadata": {},
   "outputs": [],
   "source": [
    "# model=DecisionTreeClassifier()\n",
    "# model.fit(train_X,train_y)\n",
    "# prediction=model.predict(test_X)\n",
    "# print('The accuracy of the Decision Tree is',metrics.accuracy_score(prediction,test_y))"
   ]
  },
  {
   "cell_type": "markdown",
   "metadata": {},
   "source": [
    "<h3>K-Nearest Neighbours</h3>"
   ]
  },
  {
   "cell_type": "code",
   "execution_count": 73,
   "metadata": {},
   "outputs": [],
   "source": [
    "# model=KNeighborsClassifier(n_neighbors=3) #this examines 3 neighbours for putting the new data into a class\n",
    "# model.fit(train_X,train_y)\n",
    "# prediction=model.predict(test_X)\n",
    "# print('The accuracy of the KNN is',metrics.accuracy_score(prediction,test_y))"
   ]
  },
  {
   "cell_type": "markdown",
   "metadata": {},
   "source": [
    "<b>Let's check the accuracy for various values of n for K-Nearest nerighbours</b>"
   ]
  },
  {
   "cell_type": "code",
   "execution_count": 74,
   "metadata": {},
   "outputs": [],
   "source": [
    "# a_index=list(range(1,11))\n",
    "# a=pd.Series()\n",
    "# x=[1,2,3,4,5,6,7,8,9,10]\n",
    "# for i in list(range(1,11)):\n",
    "#     model=KNeighborsClassifier(n_neighbors=i) \n",
    "#     model.fit(train_X,train_y)\n",
    "#     prediction=model.predict(test_X)\n",
    "#     a=a.append(pd.Series(metrics.accuracy_score(prediction,test_y)))\n",
    "# plt.plot(a_index, a)\n",
    "# plt.xticks(x)"
   ]
  },
  {
   "cell_type": "markdown",
   "metadata": {},
   "source": [
    "<h3>Creating Petals And Sepals Training Data</h3>"
   ]
  },
  {
   "cell_type": "code",
   "execution_count": 75,
   "metadata": {},
   "outputs": [],
   "source": [
    "# petal=iris[['petal.length','petal.width','variety']]\n",
    "# sepal=iris[['sepal.length','sepal.width','variety']]"
   ]
  },
  {
   "cell_type": "code",
   "execution_count": 76,
   "metadata": {},
   "outputs": [],
   "source": [
    "# train_p,test_p=train_test_split(petal,test_size=0.3,random_state=0)  #petals\n",
    "# train_x_p=train_p[['petal.width','petal.length']]\n",
    "# train_y_p=train_p.variety\n",
    "# test_x_p=test_p[['petal.width','petal.length']]\n",
    "# test_y_p=test_p.variety\n",
    "\n",
    "\n",
    "# train_s,test_s=train_test_split(sepal,test_size=0.3,random_state=0)  #Sepal\n",
    "# train_x_s=train_s[['sepal.width','sepal.length']]\n",
    "# train_y_s=train_s.variety\n",
    "# test_x_s=test_s[['sepal.width','sepal.length']]\n",
    "# test_y_s=test_s.variety"
   ]
  },
  {
   "cell_type": "markdown",
   "metadata": {},
   "source": [
    "<h3>SVM</h3>"
   ]
  },
  {
   "cell_type": "code",
   "execution_count": 77,
   "metadata": {},
   "outputs": [],
   "source": [
    "# model=svm.SVC()\n",
    "# model.fit(train_x_p,train_y_p) \n",
    "# prediction=model.predict(test_x_p) \n",
    "# print('The accuracy of the SVM using Petals is:',metrics.accuracy_score(prediction,test_y_p))\n",
    "\n",
    "# model=svm.SVC()\n",
    "# model.fit(train_x_s,train_y_s) \n",
    "# prediction=model.predict(test_x_s) \n",
    "# print('The accuracy of the SVM using Sepal is:',metrics.accuracy_score(prediction,test_y_s))"
   ]
  },
  {
   "cell_type": "markdown",
   "metadata": {},
   "source": [
    "<h3>Logistic Regression</h3>"
   ]
  },
  {
   "cell_type": "code",
   "execution_count": 78,
   "metadata": {},
   "outputs": [],
   "source": [
    "# model = LogisticRegression()\n",
    "# model.fit(train_x_p,train_y_p) \n",
    "# prediction=model.predict(test_x_p) \n",
    "# print('The accuracy of the Logistic Regression using Petals is:',metrics.accuracy_score(prediction,test_y_p))\n",
    "\n",
    "# model.fit(train_x_s,train_y_s) \n",
    "# prediction=model.predict(test_x_s) \n",
    "# print('The accuracy of the Logistic Regression using Sepals is:',metrics.accuracy_score(prediction,test_y_s))"
   ]
  },
  {
   "cell_type": "markdown",
   "metadata": {},
   "source": [
    "<h3>Decision Tree</h3>"
   ]
  },
  {
   "cell_type": "code",
   "execution_count": 79,
   "metadata": {},
   "outputs": [],
   "source": [
    "# model=DecisionTreeClassifier()\n",
    "# model.fit(train_x_p,train_y_p) \n",
    "# prediction=model.predict(test_x_p) \n",
    "# print('The accuracy of the Decision Tree using Petals is:',metrics.accuracy_score(prediction,test_y_p))\n",
    "\n",
    "# model.fit(train_x_s,train_y_s) \n",
    "# prediction=model.predict(test_x_s) \n",
    "# print('The accuracy of the Decision Tree using Sepals is:',metrics.accuracy_score(prediction,test_y_s))"
   ]
  },
  {
   "cell_type": "markdown",
   "metadata": {},
   "source": [
    "<h3>K-Nearest Neighbours</h3>"
   ]
  },
  {
   "cell_type": "code",
   "execution_count": 80,
   "metadata": {},
   "outputs": [],
   "source": [
    "# model=KNeighborsClassifier(n_neighbors=3) \n",
    "# model.fit(train_x_p,train_y_p) \n",
    "# prediction=model.predict(test_x_p) \n",
    "# print('The accuracy of the KNN using Petals is:',metrics.accuracy_score(prediction,test_y_p))\n",
    "\n",
    "# model.fit(train_x_s,train_y_s) \n",
    "# prediction=model.predict(test_x_s) \n",
    "# print('The accuracy of the KNN using Sepals is:',metrics.accuracy_score(prediction,test_y_s))"
   ]
  },
  {
   "cell_type": "code",
   "execution_count": null,
   "metadata": {},
   "outputs": [],
   "source": []
  }
 ],
 "metadata": {
  "kernelspec": {
   "display_name": "Python [conda env:root] *",
   "language": "python",
   "name": "conda-root-py"
  },
  "language_info": {
   "codemirror_mode": {
    "name": "ipython",
    "version": 3
   },
   "file_extension": ".py",
   "mimetype": "text/x-python",
   "name": "python",
   "nbconvert_exporter": "python",
   "pygments_lexer": "ipython3",
   "version": "3.7.3"
  }
 },
 "nbformat": 4,
 "nbformat_minor": 2
}
