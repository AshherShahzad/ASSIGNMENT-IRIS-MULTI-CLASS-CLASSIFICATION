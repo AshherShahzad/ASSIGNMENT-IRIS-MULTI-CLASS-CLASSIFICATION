{
 "cells": [
  {
   "cell_type": "markdown",
   "metadata": {},
   "source": [
    "# ASSIGNMENT : IRIS MULTI-CLASS CLASSIFICATION\n",
    "\n",
    "###### Purpose :\n",
    "To predict the species of flower .\n",
    "###### Description :\n",
    "The dataset contains a set of 150 records under 5 attributes - Petal Length, Petal Width, Sepal Length, Sepal width and Class(Species).\n",
    "###### Requirements :\n",
    "1) Code must be in tf 2.0 .\n",
    "\n",
    "2) Accuracy must be in between 95-97% .\n",
    "\n",
    "3) Model shouldn't be Overfit (You can add drop out layer for this) ."
   ]
  },
  {
   "cell_type": "markdown",
   "metadata": {},
   "source": [
    "### STEP 1 : Load all the necessary libraries "
   ]
  },
  {
   "cell_type": "markdown",
   "metadata": {},
   "source": [
    "https://www.kaggle.com/ash316/ml-from-scratch-with-iris"
   ]
  },
  {
   "cell_type": "code",
   "execution_count": 1,
   "metadata": {},
   "outputs": [],
   "source": [
    "import tensorflow as tf\n",
    "import pandas as pd\n",
    "import numpy as np"
   ]
  },
  {
   "cell_type": "code",
   "execution_count": 2,
   "metadata": {},
   "outputs": [],
   "source": [
    "from tensorflow.keras.models import Sequential\n",
    "from tensorflow.keras.layers import Dense\n",
    "from tensorflow.keras.wrappers.scikit_learn import KerasClassifier"
   ]
  },
  {
   "cell_type": "code",
   "execution_count": 3,
   "metadata": {},
   "outputs": [],
   "source": [
    "from sklearn import datasets\n",
    "from sklearn.model_selection import train_test_split\n",
    "from sklearn.preprocessing import MinMaxScaler\n",
    "from sklearn.preprocessing import LabelBinarizer\n",
    "from sklearn.model_selection import KFold\n",
    "from sklearn.model_selection import cross_val_score"
   ]
  },
  {
   "cell_type": "markdown",
   "metadata": {},
   "source": [
    "### STEP 2 : Data Preparation\n",
    "This step consists of multiple sub steps from data loading [download](https://github.com/ramsha275/PIAIC-Sir-Anees-Quarter-2/blob/master/Deep%20Learning/iris.csv),shuffling ,spliting in **Train** and **Test** sets to one-hot-enconding on labels . \n"
   ]
  },
  {
   "cell_type": "code",
   "execution_count": 4,
   "metadata": {},
   "outputs": [],
   "source": [
    "encoder = LabelBinarizer()\n",
    "seed = 42"
   ]
  },
  {
   "cell_type": "code",
   "execution_count": 5,
   "metadata": {},
   "outputs": [
    {
     "data": {
      "text/html": [
       "<div>\n",
       "<style scoped>\n",
       "    .dataframe tbody tr th:only-of-type {\n",
       "        vertical-align: middle;\n",
       "    }\n",
       "\n",
       "    .dataframe tbody tr th {\n",
       "        vertical-align: top;\n",
       "    }\n",
       "\n",
       "    .dataframe thead th {\n",
       "        text-align: right;\n",
       "    }\n",
       "</style>\n",
       "<table border=\"1\" class=\"dataframe\">\n",
       "  <thead>\n",
       "    <tr style=\"text-align: right;\">\n",
       "      <th></th>\n",
       "      <th>sepal.length</th>\n",
       "      <th>sepal.width</th>\n",
       "      <th>petal.length</th>\n",
       "      <th>petal.width</th>\n",
       "      <th>variety</th>\n",
       "    </tr>\n",
       "  </thead>\n",
       "  <tbody>\n",
       "    <tr>\n",
       "      <th>0</th>\n",
       "      <td>5.1</td>\n",
       "      <td>3.5</td>\n",
       "      <td>1.4</td>\n",
       "      <td>0.2</td>\n",
       "      <td>Setosa</td>\n",
       "    </tr>\n",
       "    <tr>\n",
       "      <th>1</th>\n",
       "      <td>4.9</td>\n",
       "      <td>3.0</td>\n",
       "      <td>1.4</td>\n",
       "      <td>0.2</td>\n",
       "      <td>Setosa</td>\n",
       "    </tr>\n",
       "    <tr>\n",
       "      <th>2</th>\n",
       "      <td>4.7</td>\n",
       "      <td>3.2</td>\n",
       "      <td>1.3</td>\n",
       "      <td>0.2</td>\n",
       "      <td>Setosa</td>\n",
       "    </tr>\n",
       "    <tr>\n",
       "      <th>3</th>\n",
       "      <td>4.6</td>\n",
       "      <td>3.1</td>\n",
       "      <td>1.5</td>\n",
       "      <td>0.2</td>\n",
       "      <td>Setosa</td>\n",
       "    </tr>\n",
       "    <tr>\n",
       "      <th>4</th>\n",
       "      <td>5.0</td>\n",
       "      <td>3.6</td>\n",
       "      <td>1.4</td>\n",
       "      <td>0.2</td>\n",
       "      <td>Setosa</td>\n",
       "    </tr>\n",
       "  </tbody>\n",
       "</table>\n",
       "</div>"
      ],
      "text/plain": [
       "   sepal.length  sepal.width  petal.length  petal.width variety\n",
       "0           5.1          3.5           1.4          0.2  Setosa\n",
       "1           4.9          3.0           1.4          0.2  Setosa\n",
       "2           4.7          3.2           1.3          0.2  Setosa\n",
       "3           4.6          3.1           1.5          0.2  Setosa\n",
       "4           5.0          3.6           1.4          0.2  Setosa"
      ]
     },
     "execution_count": 5,
     "metadata": {},
     "output_type": "execute_result"
    }
   ],
   "source": [
    "iris_data_df = pd.read_csv('iris.csv')\n",
    "iris_data_df.head()"
   ]
  },
  {
   "cell_type": "code",
   "execution_count": 6,
   "metadata": {},
   "outputs": [
    {
     "data": {
      "text/html": [
       "<div>\n",
       "<style scoped>\n",
       "    .dataframe tbody tr th:only-of-type {\n",
       "        vertical-align: middle;\n",
       "    }\n",
       "\n",
       "    .dataframe tbody tr th {\n",
       "        vertical-align: top;\n",
       "    }\n",
       "\n",
       "    .dataframe thead th {\n",
       "        text-align: right;\n",
       "    }\n",
       "</style>\n",
       "<table border=\"1\" class=\"dataframe\">\n",
       "  <thead>\n",
       "    <tr style=\"text-align: right;\">\n",
       "      <th></th>\n",
       "      <th>sepal.length</th>\n",
       "      <th>sepal.width</th>\n",
       "      <th>petal.length</th>\n",
       "      <th>petal.width</th>\n",
       "    </tr>\n",
       "  </thead>\n",
       "  <tbody>\n",
       "    <tr>\n",
       "      <th>0</th>\n",
       "      <td>5.1</td>\n",
       "      <td>3.5</td>\n",
       "      <td>1.4</td>\n",
       "      <td>0.2</td>\n",
       "    </tr>\n",
       "    <tr>\n",
       "      <th>1</th>\n",
       "      <td>4.9</td>\n",
       "      <td>3.0</td>\n",
       "      <td>1.4</td>\n",
       "      <td>0.2</td>\n",
       "    </tr>\n",
       "    <tr>\n",
       "      <th>2</th>\n",
       "      <td>4.7</td>\n",
       "      <td>3.2</td>\n",
       "      <td>1.3</td>\n",
       "      <td>0.2</td>\n",
       "    </tr>\n",
       "    <tr>\n",
       "      <th>3</th>\n",
       "      <td>4.6</td>\n",
       "      <td>3.1</td>\n",
       "      <td>1.5</td>\n",
       "      <td>0.2</td>\n",
       "    </tr>\n",
       "    <tr>\n",
       "      <th>4</th>\n",
       "      <td>5.0</td>\n",
       "      <td>3.6</td>\n",
       "      <td>1.4</td>\n",
       "      <td>0.2</td>\n",
       "    </tr>\n",
       "  </tbody>\n",
       "</table>\n",
       "</div>"
      ],
      "text/plain": [
       "   sepal.length  sepal.width  petal.length  petal.width\n",
       "0           5.1          3.5           1.4          0.2\n",
       "1           4.9          3.0           1.4          0.2\n",
       "2           4.7          3.2           1.3          0.2\n",
       "3           4.6          3.1           1.5          0.2\n",
       "4           5.0          3.6           1.4          0.2"
      ]
     },
     "execution_count": 6,
     "metadata": {},
     "output_type": "execute_result"
    }
   ],
   "source": [
    "iris_data_df_1 = iris_data_df.loc[:, iris_data_df.columns != 'variety']\n",
    "iris_data_df_1.head()"
   ]
  },
  {
   "cell_type": "code",
   "execution_count": 7,
   "metadata": {},
   "outputs": [
    {
     "data": {
      "text/html": [
       "<div>\n",
       "<style scoped>\n",
       "    .dataframe tbody tr th:only-of-type {\n",
       "        vertical-align: middle;\n",
       "    }\n",
       "\n",
       "    .dataframe tbody tr th {\n",
       "        vertical-align: top;\n",
       "    }\n",
       "\n",
       "    .dataframe thead th {\n",
       "        text-align: right;\n",
       "    }\n",
       "</style>\n",
       "<table border=\"1\" class=\"dataframe\">\n",
       "  <thead>\n",
       "    <tr style=\"text-align: right;\">\n",
       "      <th></th>\n",
       "      <th>Setosa</th>\n",
       "      <th>Versicolor</th>\n",
       "      <th>Virginica</th>\n",
       "    </tr>\n",
       "  </thead>\n",
       "  <tbody>\n",
       "    <tr>\n",
       "      <th>0</th>\n",
       "      <td>1</td>\n",
       "      <td>0</td>\n",
       "      <td>0</td>\n",
       "    </tr>\n",
       "    <tr>\n",
       "      <th>1</th>\n",
       "      <td>1</td>\n",
       "      <td>0</td>\n",
       "      <td>0</td>\n",
       "    </tr>\n",
       "    <tr>\n",
       "      <th>2</th>\n",
       "      <td>1</td>\n",
       "      <td>0</td>\n",
       "      <td>0</td>\n",
       "    </tr>\n",
       "    <tr>\n",
       "      <th>3</th>\n",
       "      <td>1</td>\n",
       "      <td>0</td>\n",
       "      <td>0</td>\n",
       "    </tr>\n",
       "    <tr>\n",
       "      <th>4</th>\n",
       "      <td>1</td>\n",
       "      <td>0</td>\n",
       "      <td>0</td>\n",
       "    </tr>\n",
       "  </tbody>\n",
       "</table>\n",
       "</div>"
      ],
      "text/plain": [
       "   Setosa  Versicolor  Virginica\n",
       "0       1           0          0\n",
       "1       1           0          0\n",
       "2       1           0          0\n",
       "3       1           0          0\n",
       "4       1           0          0"
      ]
     },
     "execution_count": 7,
     "metadata": {},
     "output_type": "execute_result"
    }
   ],
   "source": [
    "iris_target_df = pd.DataFrame({\n",
    "    'Setosa' : iris_data_df['variety'] == 'Setosa',\n",
    "    'Versicolor' : iris_data_df['variety'] == 'Versicolor',\n",
    "    'Virginica' : iris_data_df['variety'] == 'Virginica',\n",
    "})*1\n",
    "iris_target_df.head()"
   ]
  },
  {
   "cell_type": "code",
   "execution_count": 8,
   "metadata": {},
   "outputs": [],
   "source": [
    "X_train,X_test,y_train,y_test = train_test_split(iris_data_df_1,\n",
    "                                                 iris_target_df,\n",
    "                                                 test_size=0.30,\n",
    "                                                 random_state=seed)"
   ]
  },
  {
   "cell_type": "code",
   "execution_count": 9,
   "metadata": {},
   "outputs": [
    {
     "data": {
      "text/plain": [
       "MinMaxScaler(copy=True, feature_range=(0, 1))"
      ]
     },
     "execution_count": 9,
     "metadata": {},
     "output_type": "execute_result"
    }
   ],
   "source": [
    "scaler = MinMaxScaler(feature_range=(0,1))\n",
    "scaler"
   ]
  },
  {
   "cell_type": "code",
   "execution_count": 10,
   "metadata": {},
   "outputs": [
    {
     "data": {
      "text/html": [
       "<div>\n",
       "<style scoped>\n",
       "    .dataframe tbody tr th:only-of-type {\n",
       "        vertical-align: middle;\n",
       "    }\n",
       "\n",
       "    .dataframe tbody tr th {\n",
       "        vertical-align: top;\n",
       "    }\n",
       "\n",
       "    .dataframe thead th {\n",
       "        text-align: right;\n",
       "    }\n",
       "</style>\n",
       "<table border=\"1\" class=\"dataframe\">\n",
       "  <thead>\n",
       "    <tr style=\"text-align: right;\">\n",
       "      <th></th>\n",
       "      <th>sepal.length</th>\n",
       "      <th>sepal.width</th>\n",
       "      <th>petal.length</th>\n",
       "      <th>petal.width</th>\n",
       "    </tr>\n",
       "  </thead>\n",
       "  <tbody>\n",
       "    <tr>\n",
       "      <th>81</th>\n",
       "      <td>0.352941</td>\n",
       "      <td>0.181818</td>\n",
       "      <td>0.464286</td>\n",
       "      <td>0.375000</td>\n",
       "    </tr>\n",
       "    <tr>\n",
       "      <th>133</th>\n",
       "      <td>0.588235</td>\n",
       "      <td>0.363636</td>\n",
       "      <td>0.714286</td>\n",
       "      <td>0.583333</td>\n",
       "    </tr>\n",
       "    <tr>\n",
       "      <th>137</th>\n",
       "      <td>0.617647</td>\n",
       "      <td>0.500000</td>\n",
       "      <td>0.785714</td>\n",
       "      <td>0.708333</td>\n",
       "    </tr>\n",
       "    <tr>\n",
       "      <th>75</th>\n",
       "      <td>0.676471</td>\n",
       "      <td>0.454545</td>\n",
       "      <td>0.589286</td>\n",
       "      <td>0.541667</td>\n",
       "    </tr>\n",
       "    <tr>\n",
       "      <th>109</th>\n",
       "      <td>0.852941</td>\n",
       "      <td>0.727273</td>\n",
       "      <td>0.892857</td>\n",
       "      <td>1.000000</td>\n",
       "    </tr>\n",
       "  </tbody>\n",
       "</table>\n",
       "</div>"
      ],
      "text/plain": [
       "     sepal.length  sepal.width  petal.length  petal.width\n",
       "81       0.352941     0.181818      0.464286     0.375000\n",
       "133      0.588235     0.363636      0.714286     0.583333\n",
       "137      0.617647     0.500000      0.785714     0.708333\n",
       "75       0.676471     0.454545      0.589286     0.541667\n",
       "109      0.852941     0.727273      0.892857     1.000000"
      ]
     },
     "execution_count": 10,
     "metadata": {},
     "output_type": "execute_result"
    }
   ],
   "source": [
    "X_train = pd.DataFrame(scaler.fit_transform(X_train),\n",
    "                               columns=X_train.columns,\n",
    "                               index=X_train.index)\n",
    "X_train.head()"
   ]
  },
  {
   "cell_type": "code",
   "execution_count": 11,
   "metadata": {},
   "outputs": [
    {
     "data": {
      "text/html": [
       "<div>\n",
       "<style scoped>\n",
       "    .dataframe tbody tr th:only-of-type {\n",
       "        vertical-align: middle;\n",
       "    }\n",
       "\n",
       "    .dataframe tbody tr th {\n",
       "        vertical-align: top;\n",
       "    }\n",
       "\n",
       "    .dataframe thead th {\n",
       "        text-align: right;\n",
       "    }\n",
       "</style>\n",
       "<table border=\"1\" class=\"dataframe\">\n",
       "  <thead>\n",
       "    <tr style=\"text-align: right;\">\n",
       "      <th></th>\n",
       "      <th>sepal.length</th>\n",
       "      <th>sepal.width</th>\n",
       "      <th>petal.length</th>\n",
       "      <th>petal.width</th>\n",
       "    </tr>\n",
       "  </thead>\n",
       "  <tbody>\n",
       "    <tr>\n",
       "      <th>73</th>\n",
       "      <td>0.529412</td>\n",
       "      <td>0.363636</td>\n",
       "      <td>0.642857</td>\n",
       "      <td>0.458333</td>\n",
       "    </tr>\n",
       "    <tr>\n",
       "      <th>18</th>\n",
       "      <td>0.411765</td>\n",
       "      <td>0.818182</td>\n",
       "      <td>0.107143</td>\n",
       "      <td>0.083333</td>\n",
       "    </tr>\n",
       "    <tr>\n",
       "      <th>118</th>\n",
       "      <td>1.000000</td>\n",
       "      <td>0.272727</td>\n",
       "      <td>1.035714</td>\n",
       "      <td>0.916667</td>\n",
       "    </tr>\n",
       "    <tr>\n",
       "      <th>78</th>\n",
       "      <td>0.500000</td>\n",
       "      <td>0.409091</td>\n",
       "      <td>0.607143</td>\n",
       "      <td>0.583333</td>\n",
       "    </tr>\n",
       "    <tr>\n",
       "      <th>76</th>\n",
       "      <td>0.735294</td>\n",
       "      <td>0.363636</td>\n",
       "      <td>0.660714</td>\n",
       "      <td>0.541667</td>\n",
       "    </tr>\n",
       "  </tbody>\n",
       "</table>\n",
       "</div>"
      ],
      "text/plain": [
       "     sepal.length  sepal.width  petal.length  petal.width\n",
       "73       0.529412     0.363636      0.642857     0.458333\n",
       "18       0.411765     0.818182      0.107143     0.083333\n",
       "118      1.000000     0.272727      1.035714     0.916667\n",
       "78       0.500000     0.409091      0.607143     0.583333\n",
       "76       0.735294     0.363636      0.660714     0.541667"
      ]
     },
     "execution_count": 11,
     "metadata": {},
     "output_type": "execute_result"
    }
   ],
   "source": [
    "X_test = pd.DataFrame(scaler.transform(X_test),\n",
    "                           columns=X_test.columns,\n",
    "                           index=X_test.index)\n",
    "X_test.head()"
   ]
  },
  {
   "cell_type": "markdown",
   "metadata": {},
   "source": [
    "### STEP 3 : Model Architecture \n",
    "\n",
    "\n",
    "###### Input : 4 \n",
    "###### 1 hidden Layer : 8 nodes\n",
    "###### Output : 3"
   ]
  },
  {
   "cell_type": "code",
   "execution_count": 12,
   "metadata": {},
   "outputs": [
    {
     "name": "stdout",
     "output_type": "stream",
     "text": [
      "WARNING:tensorflow:From C:\\Program Files\\Anaconda\\lib\\site-packages\\tensorflow\\python\\ops\\init_ops.py:1251: calling VarianceScaling.__init__ (from tensorflow.python.ops.init_ops) with dtype is deprecated and will be removed in a future version.\n",
      "Instructions for updating:\n",
      "Call initializer instance with the dtype argument instead of passing it to the constructor\n"
     ]
    },
    {
     "data": {
      "text/plain": [
       "<tensorflow.python.keras.engine.sequential.Sequential at 0x11430b71208>"
      ]
     },
     "execution_count": 12,
     "metadata": {},
     "output_type": "execute_result"
    }
   ],
   "source": [
    "model = Sequential()\n",
    "model.add(Dense(8, input_dim=4, activation='tanh', name='input_layer'))\n",
    "model.add(Dense(3, activation='softmax', name='output_layer'))\n",
    "model"
   ]
  },
  {
   "cell_type": "markdown",
   "metadata": {},
   "source": [
    "### STEP 4 : Compilation Step "
   ]
  },
  {
   "cell_type": "code",
   "execution_count": 13,
   "metadata": {},
   "outputs": [
    {
     "data": {
      "text/plain": [
       "<tensorflow.python.keras.engine.sequential.Sequential at 0x11430b71208>"
      ]
     },
     "execution_count": 13,
     "metadata": {},
     "output_type": "execute_result"
    }
   ],
   "source": [
    "model.compile(loss=\"categorical_crossentropy\",\n",
    "                  optimizer=\"adam\",\n",
    "                  metrics=['accuracy'])\n",
    "model"
   ]
  },
  {
   "cell_type": "markdown",
   "metadata": {},
   "source": [
    "<h2>Train The Model</h2>"
   ]
  },
  {
   "cell_type": "code",
   "execution_count": 14,
   "metadata": {},
   "outputs": [
    {
     "name": "stdout",
     "output_type": "stream",
     "text": [
      "Epoch 1/200\n",
      "105/105 - 0s - loss: 1.1391 - acc: 0.3429\n",
      "Epoch 2/200\n",
      "105/105 - 0s - loss: 1.1273 - acc: 0.3619\n",
      "Epoch 3/200\n",
      "105/105 - 0s - loss: 1.1157 - acc: 0.4095\n",
      "Epoch 4/200\n",
      "105/105 - 0s - loss: 1.1052 - acc: 0.4381\n",
      "Epoch 5/200\n",
      "105/105 - 0s - loss: 1.0943 - acc: 0.4571\n",
      "Epoch 6/200\n",
      "105/105 - 0s - loss: 1.0845 - acc: 0.4667\n",
      "Epoch 7/200\n",
      "105/105 - 0s - loss: 1.0750 - acc: 0.5048\n",
      "Epoch 8/200\n",
      "105/105 - 0s - loss: 1.0655 - acc: 0.5429\n",
      "Epoch 9/200\n",
      "105/105 - 0s - loss: 1.0570 - acc: 0.5524\n",
      "Epoch 10/200\n",
      "105/105 - 0s - loss: 1.0486 - acc: 0.5714\n",
      "Epoch 11/200\n",
      "105/105 - 0s - loss: 1.0394 - acc: 0.5714\n",
      "Epoch 12/200\n",
      "105/105 - 0s - loss: 1.0314 - acc: 0.6000\n",
      "Epoch 13/200\n",
      "105/105 - 0s - loss: 1.0235 - acc: 0.6095\n",
      "Epoch 14/200\n",
      "105/105 - 0s - loss: 1.0158 - acc: 0.6381\n",
      "Epoch 15/200\n",
      "105/105 - 0s - loss: 1.0080 - acc: 0.6476\n",
      "Epoch 16/200\n",
      "105/105 - 0s - loss: 1.0007 - acc: 0.6952\n",
      "Epoch 17/200\n",
      "105/105 - 0s - loss: 0.9931 - acc: 0.7333\n",
      "Epoch 18/200\n",
      "105/105 - 0s - loss: 0.9859 - acc: 0.7619\n",
      "Epoch 19/200\n",
      "105/105 - 0s - loss: 0.9789 - acc: 0.7905\n",
      "Epoch 20/200\n",
      "105/105 - 0s - loss: 0.9720 - acc: 0.7905\n",
      "Epoch 21/200\n",
      "105/105 - 0s - loss: 0.9654 - acc: 0.7619\n",
      "Epoch 22/200\n",
      "105/105 - 0s - loss: 0.9591 - acc: 0.7714\n",
      "Epoch 23/200\n",
      "105/105 - 0s - loss: 0.9525 - acc: 0.7619\n",
      "Epoch 24/200\n",
      "105/105 - 0s - loss: 0.9463 - acc: 0.7238\n",
      "Epoch 25/200\n",
      "105/105 - 0s - loss: 0.9400 - acc: 0.7048\n",
      "Epoch 26/200\n",
      "105/105 - 0s - loss: 0.9340 - acc: 0.7048\n",
      "Epoch 27/200\n",
      "105/105 - 0s - loss: 0.9281 - acc: 0.7048\n",
      "Epoch 28/200\n",
      "105/105 - 0s - loss: 0.9220 - acc: 0.7048\n",
      "Epoch 29/200\n",
      "105/105 - 0s - loss: 0.9160 - acc: 0.7048\n",
      "Epoch 30/200\n",
      "105/105 - 0s - loss: 0.9100 - acc: 0.6952\n",
      "Epoch 31/200\n",
      "105/105 - 0s - loss: 0.9042 - acc: 0.6857\n",
      "Epoch 32/200\n",
      "105/105 - 0s - loss: 0.8983 - acc: 0.6571\n",
      "Epoch 33/200\n",
      "105/105 - 0s - loss: 0.8926 - acc: 0.6381\n",
      "Epoch 34/200\n",
      "105/105 - 0s - loss: 0.8870 - acc: 0.6381\n",
      "Epoch 35/200\n",
      "105/105 - 0s - loss: 0.8818 - acc: 0.6381\n",
      "Epoch 36/200\n",
      "105/105 - 0s - loss: 0.8764 - acc: 0.6381\n",
      "Epoch 37/200\n",
      "105/105 - 0s - loss: 0.8709 - acc: 0.6381\n",
      "Epoch 38/200\n",
      "105/105 - 0s - loss: 0.8654 - acc: 0.6476\n",
      "Epoch 39/200\n",
      "105/105 - 0s - loss: 0.8600 - acc: 0.6476\n",
      "Epoch 40/200\n",
      "105/105 - 0s - loss: 0.8545 - acc: 0.6476\n",
      "Epoch 41/200\n",
      "105/105 - 0s - loss: 0.8490 - acc: 0.6476\n",
      "Epoch 42/200\n",
      "105/105 - 0s - loss: 0.8435 - acc: 0.6476\n",
      "Epoch 43/200\n",
      "105/105 - 0s - loss: 0.8383 - acc: 0.6476\n",
      "Epoch 44/200\n",
      "105/105 - 0s - loss: 0.8328 - acc: 0.6476\n",
      "Epoch 45/200\n",
      "105/105 - 0s - loss: 0.8274 - acc: 0.6476\n",
      "Epoch 46/200\n",
      "105/105 - 0s - loss: 0.8220 - acc: 0.6476\n",
      "Epoch 47/200\n",
      "105/105 - 0s - loss: 0.8168 - acc: 0.6476\n",
      "Epoch 48/200\n",
      "105/105 - 0s - loss: 0.8114 - acc: 0.6476\n",
      "Epoch 49/200\n",
      "105/105 - 0s - loss: 0.8062 - acc: 0.6476\n",
      "Epoch 50/200\n",
      "105/105 - 0s - loss: 0.8011 - acc: 0.6476\n",
      "Epoch 51/200\n",
      "105/105 - 0s - loss: 0.7962 - acc: 0.6476\n",
      "Epoch 52/200\n",
      "105/105 - 0s - loss: 0.7912 - acc: 0.6476\n",
      "Epoch 53/200\n",
      "105/105 - 0s - loss: 0.7860 - acc: 0.6476\n",
      "Epoch 54/200\n",
      "105/105 - 0s - loss: 0.7810 - acc: 0.6571\n",
      "Epoch 55/200\n",
      "105/105 - 0s - loss: 0.7759 - acc: 0.6571\n",
      "Epoch 56/200\n",
      "105/105 - 0s - loss: 0.7708 - acc: 0.6571\n",
      "Epoch 57/200\n",
      "105/105 - 0s - loss: 0.7658 - acc: 0.6571\n",
      "Epoch 58/200\n",
      "105/105 - 0s - loss: 0.7608 - acc: 0.6667\n",
      "Epoch 59/200\n",
      "105/105 - 0s - loss: 0.7557 - acc: 0.6762\n",
      "Epoch 60/200\n",
      "105/105 - 0s - loss: 0.7507 - acc: 0.6952\n",
      "Epoch 61/200\n",
      "105/105 - 0s - loss: 0.7458 - acc: 0.7143\n",
      "Epoch 62/200\n",
      "105/105 - 0s - loss: 0.7408 - acc: 0.7238\n",
      "Epoch 63/200\n",
      "105/105 - 0s - loss: 0.7359 - acc: 0.7238\n",
      "Epoch 64/200\n",
      "105/105 - 0s - loss: 0.7311 - acc: 0.7333\n",
      "Epoch 65/200\n",
      "105/105 - 0s - loss: 0.7261 - acc: 0.7429\n",
      "Epoch 66/200\n",
      "105/105 - 0s - loss: 0.7215 - acc: 0.7714\n",
      "Epoch 67/200\n",
      "105/105 - 0s - loss: 0.7165 - acc: 0.8000\n",
      "Epoch 68/200\n",
      "105/105 - 0s - loss: 0.7117 - acc: 0.8095\n",
      "Epoch 69/200\n",
      "105/105 - 0s - loss: 0.7071 - acc: 0.8095\n",
      "Epoch 70/200\n",
      "105/105 - 0s - loss: 0.7024 - acc: 0.8000\n",
      "Epoch 71/200\n",
      "105/105 - 0s - loss: 0.6978 - acc: 0.8095\n",
      "Epoch 72/200\n",
      "105/105 - 0s - loss: 0.6931 - acc: 0.8190\n",
      "Epoch 73/200\n",
      "105/105 - 0s - loss: 0.6886 - acc: 0.8190\n",
      "Epoch 74/200\n",
      "105/105 - 0s - loss: 0.6839 - acc: 0.8190\n",
      "Epoch 75/200\n",
      "105/105 - 0s - loss: 0.6794 - acc: 0.8190\n",
      "Epoch 76/200\n",
      "105/105 - 0s - loss: 0.6751 - acc: 0.8190\n",
      "Epoch 77/200\n",
      "105/105 - 0s - loss: 0.6707 - acc: 0.8286\n",
      "Epoch 78/200\n",
      "105/105 - 0s - loss: 0.6662 - acc: 0.8190\n",
      "Epoch 79/200\n",
      "105/105 - 0s - loss: 0.6618 - acc: 0.8190\n",
      "Epoch 80/200\n",
      "105/105 - 0s - loss: 0.6579 - acc: 0.8286\n",
      "Epoch 81/200\n",
      "105/105 - 0s - loss: 0.6532 - acc: 0.8286\n",
      "Epoch 82/200\n",
      "105/105 - 0s - loss: 0.6493 - acc: 0.8190\n",
      "Epoch 83/200\n",
      "105/105 - 0s - loss: 0.6449 - acc: 0.8190\n",
      "Epoch 84/200\n",
      "105/105 - 0s - loss: 0.6409 - acc: 0.8190\n",
      "Epoch 85/200\n",
      "105/105 - 0s - loss: 0.6370 - acc: 0.8476\n",
      "Epoch 86/200\n",
      "105/105 - 0s - loss: 0.6330 - acc: 0.8571\n",
      "Epoch 87/200\n",
      "105/105 - 0s - loss: 0.6291 - acc: 0.8762\n",
      "Epoch 88/200\n",
      "105/105 - 0s - loss: 0.6252 - acc: 0.8762\n",
      "Epoch 89/200\n",
      "105/105 - 0s - loss: 0.6213 - acc: 0.8762\n",
      "Epoch 90/200\n",
      "105/105 - 0s - loss: 0.6175 - acc: 0.8857\n",
      "Epoch 91/200\n",
      "105/105 - 0s - loss: 0.6136 - acc: 0.8857\n",
      "Epoch 92/200\n",
      "105/105 - 0s - loss: 0.6098 - acc: 0.8857\n",
      "Epoch 93/200\n",
      "105/105 - 0s - loss: 0.6061 - acc: 0.8762\n",
      "Epoch 94/200\n",
      "105/105 - 0s - loss: 0.6024 - acc: 0.8667\n",
      "Epoch 95/200\n",
      "105/105 - 0s - loss: 0.5988 - acc: 0.8476\n",
      "Epoch 96/200\n",
      "105/105 - 0s - loss: 0.5952 - acc: 0.8476\n",
      "Epoch 97/200\n",
      "105/105 - 0s - loss: 0.5915 - acc: 0.8476\n",
      "Epoch 98/200\n",
      "105/105 - 0s - loss: 0.5880 - acc: 0.8476\n",
      "Epoch 99/200\n",
      "105/105 - 0s - loss: 0.5846 - acc: 0.8476\n",
      "Epoch 100/200\n",
      "105/105 - 0s - loss: 0.5812 - acc: 0.8571\n",
      "Epoch 101/200\n",
      "105/105 - 0s - loss: 0.5779 - acc: 0.8667\n",
      "Epoch 102/200\n",
      "105/105 - 0s - loss: 0.5745 - acc: 0.8667\n",
      "Epoch 103/200\n",
      "105/105 - 0s - loss: 0.5713 - acc: 0.8667\n",
      "Epoch 104/200\n",
      "105/105 - 0s - loss: 0.5681 - acc: 0.8857\n",
      "Epoch 105/200\n",
      "105/105 - 0s - loss: 0.5650 - acc: 0.8857\n",
      "Epoch 106/200\n",
      "105/105 - 0s - loss: 0.5618 - acc: 0.8857\n",
      "Epoch 107/200\n",
      "105/105 - 0s - loss: 0.5587 - acc: 0.8857\n",
      "Epoch 108/200\n",
      "105/105 - 0s - loss: 0.5555 - acc: 0.8857\n",
      "Epoch 109/200\n",
      "105/105 - 0s - loss: 0.5525 - acc: 0.8857\n",
      "Epoch 110/200\n",
      "105/105 - 0s - loss: 0.5495 - acc: 0.8857\n",
      "Epoch 111/200\n",
      "105/105 - 0s - loss: 0.5464 - acc: 0.8857\n",
      "Epoch 112/200\n",
      "105/105 - 0s - loss: 0.5435 - acc: 0.8857\n",
      "Epoch 113/200\n",
      "105/105 - 0s - loss: 0.5405 - acc: 0.8857\n",
      "Epoch 114/200\n",
      "105/105 - 0s - loss: 0.5376 - acc: 0.8857\n",
      "Epoch 115/200\n",
      "105/105 - 0s - loss: 0.5346 - acc: 0.8857\n",
      "Epoch 116/200\n",
      "105/105 - 0s - loss: 0.5320 - acc: 0.8857\n",
      "Epoch 117/200\n",
      "105/105 - 0s - loss: 0.5291 - acc: 0.8857\n",
      "Epoch 118/200\n",
      "105/105 - 0s - loss: 0.5264 - acc: 0.8857\n",
      "Epoch 119/200\n",
      "105/105 - 0s - loss: 0.5236 - acc: 0.8952\n",
      "Epoch 120/200\n",
      "105/105 - 0s - loss: 0.5210 - acc: 0.8952\n",
      "Epoch 121/200\n",
      "105/105 - 0s - loss: 0.5184 - acc: 0.8952\n",
      "Epoch 122/200\n",
      "105/105 - 0s - loss: 0.5164 - acc: 0.8857\n",
      "Epoch 123/200\n",
      "105/105 - 0s - loss: 0.5135 - acc: 0.8857\n",
      "Epoch 124/200\n",
      "105/105 - 0s - loss: 0.5108 - acc: 0.8857\n",
      "Epoch 125/200\n",
      "105/105 - 0s - loss: 0.5083 - acc: 0.8857\n",
      "Epoch 126/200\n",
      "105/105 - 0s - loss: 0.5060 - acc: 0.8857\n",
      "Epoch 127/200\n",
      "105/105 - 0s - loss: 0.5036 - acc: 0.8857\n",
      "Epoch 128/200\n",
      "105/105 - 0s - loss: 0.5014 - acc: 0.8857\n",
      "Epoch 129/200\n",
      "105/105 - 0s - loss: 0.4992 - acc: 0.8762\n",
      "Epoch 130/200\n",
      "105/105 - 0s - loss: 0.4969 - acc: 0.8762\n",
      "Epoch 131/200\n",
      "105/105 - 0s - loss: 0.4944 - acc: 0.8857\n",
      "Epoch 132/200\n",
      "105/105 - 0s - loss: 0.4920 - acc: 0.8857\n",
      "Epoch 133/200\n",
      "105/105 - 0s - loss: 0.4897 - acc: 0.8952\n",
      "Epoch 134/200\n",
      "105/105 - 0s - loss: 0.4876 - acc: 0.8857\n",
      "Epoch 135/200\n",
      "105/105 - 0s - loss: 0.4853 - acc: 0.8952\n",
      "Epoch 136/200\n",
      "105/105 - 0s - loss: 0.4830 - acc: 0.8952\n",
      "Epoch 137/200\n",
      "105/105 - 0s - loss: 0.4810 - acc: 0.8952\n",
      "Epoch 138/200\n",
      "105/105 - 0s - loss: 0.4787 - acc: 0.8952\n",
      "Epoch 139/200\n",
      "105/105 - 0s - loss: 0.4766 - acc: 0.8952\n",
      "Epoch 140/200\n",
      "105/105 - 0s - loss: 0.4744 - acc: 0.8952\n",
      "Epoch 141/200\n",
      "105/105 - 0s - loss: 0.4725 - acc: 0.8952\n",
      "Epoch 142/200\n",
      "105/105 - 0s - loss: 0.4704 - acc: 0.8952\n",
      "Epoch 143/200\n",
      "105/105 - 0s - loss: 0.4687 - acc: 0.9143\n",
      "Epoch 144/200\n",
      "105/105 - 0s - loss: 0.4663 - acc: 0.9143\n",
      "Epoch 145/200\n",
      "105/105 - 0s - loss: 0.4643 - acc: 0.9143\n",
      "Epoch 146/200\n",
      "105/105 - 0s - loss: 0.4623 - acc: 0.9048\n",
      "Epoch 147/200\n",
      "105/105 - 0s - loss: 0.4605 - acc: 0.8952\n",
      "Epoch 148/200\n",
      "105/105 - 0s - loss: 0.4584 - acc: 0.8952\n",
      "Epoch 149/200\n",
      "105/105 - 0s - loss: 0.4564 - acc: 0.9143\n"
     ]
    },
    {
     "name": "stdout",
     "output_type": "stream",
     "text": [
      "Epoch 150/200\n",
      "105/105 - 0s - loss: 0.4545 - acc: 0.9143\n",
      "Epoch 151/200\n",
      "105/105 - 0s - loss: 0.4530 - acc: 0.9048\n",
      "Epoch 152/200\n",
      "105/105 - 0s - loss: 0.4511 - acc: 0.9143\n",
      "Epoch 153/200\n",
      "105/105 - 0s - loss: 0.4492 - acc: 0.9143\n",
      "Epoch 154/200\n",
      "105/105 - 0s - loss: 0.4474 - acc: 0.9143\n",
      "Epoch 155/200\n",
      "105/105 - 0s - loss: 0.4455 - acc: 0.9143\n",
      "Epoch 156/200\n",
      "105/105 - 0s - loss: 0.4437 - acc: 0.9048\n",
      "Epoch 157/200\n",
      "105/105 - 0s - loss: 0.4419 - acc: 0.9048\n",
      "Epoch 158/200\n",
      "105/105 - 0s - loss: 0.4401 - acc: 0.9048\n",
      "Epoch 159/200\n",
      "105/105 - 0s - loss: 0.4385 - acc: 0.9048\n",
      "Epoch 160/200\n",
      "105/105 - 0s - loss: 0.4365 - acc: 0.9143\n",
      "Epoch 161/200\n",
      "105/105 - 0s - loss: 0.4348 - acc: 0.9143\n",
      "Epoch 162/200\n",
      "105/105 - 0s - loss: 0.4331 - acc: 0.9143\n",
      "Epoch 163/200\n",
      "105/105 - 0s - loss: 0.4314 - acc: 0.9143\n",
      "Epoch 164/200\n",
      "105/105 - 0s - loss: 0.4297 - acc: 0.9143\n",
      "Epoch 165/200\n",
      "105/105 - 0s - loss: 0.4281 - acc: 0.9143\n",
      "Epoch 166/200\n",
      "105/105 - 0s - loss: 0.4264 - acc: 0.9143\n",
      "Epoch 167/200\n",
      "105/105 - 0s - loss: 0.4248 - acc: 0.9143\n",
      "Epoch 168/200\n",
      "105/105 - 0s - loss: 0.4233 - acc: 0.9048\n",
      "Epoch 169/200\n",
      "105/105 - 0s - loss: 0.4216 - acc: 0.9143\n",
      "Epoch 170/200\n",
      "105/105 - 0s - loss: 0.4199 - acc: 0.9143\n",
      "Epoch 171/200\n",
      "105/105 - 0s - loss: 0.4183 - acc: 0.9143\n",
      "Epoch 172/200\n",
      "105/105 - 0s - loss: 0.4168 - acc: 0.9143\n",
      "Epoch 173/200\n",
      "105/105 - 0s - loss: 0.4154 - acc: 0.9143\n",
      "Epoch 174/200\n",
      "105/105 - 0s - loss: 0.4139 - acc: 0.9143\n",
      "Epoch 175/200\n",
      "105/105 - 0s - loss: 0.4123 - acc: 0.9143\n",
      "Epoch 176/200\n",
      "105/105 - 0s - loss: 0.4107 - acc: 0.9143\n",
      "Epoch 177/200\n",
      "105/105 - 0s - loss: 0.4092 - acc: 0.9143\n",
      "Epoch 178/200\n",
      "105/105 - 0s - loss: 0.4078 - acc: 0.9143\n",
      "Epoch 179/200\n",
      "105/105 - 0s - loss: 0.4061 - acc: 0.9143\n",
      "Epoch 180/200\n",
      "105/105 - 0s - loss: 0.4046 - acc: 0.9143\n",
      "Epoch 181/200\n",
      "105/105 - 0s - loss: 0.4031 - acc: 0.9143\n",
      "Epoch 182/200\n",
      "105/105 - 0s - loss: 0.4016 - acc: 0.9143\n",
      "Epoch 183/200\n",
      "105/105 - 0s - loss: 0.4001 - acc: 0.9143\n",
      "Epoch 184/200\n",
      "105/105 - 0s - loss: 0.3986 - acc: 0.9143\n",
      "Epoch 185/200\n",
      "105/105 - 0s - loss: 0.3975 - acc: 0.9143\n",
      "Epoch 186/200\n",
      "105/105 - 0s - loss: 0.3958 - acc: 0.9143\n",
      "Epoch 187/200\n",
      "105/105 - 0s - loss: 0.3945 - acc: 0.9143\n",
      "Epoch 188/200\n",
      "105/105 - 0s - loss: 0.3933 - acc: 0.9143\n",
      "Epoch 189/200\n",
      "105/105 - 0s - loss: 0.3916 - acc: 0.9143\n",
      "Epoch 190/200\n",
      "105/105 - 0s - loss: 0.3903 - acc: 0.9143\n",
      "Epoch 191/200\n",
      "105/105 - 0s - loss: 0.3887 - acc: 0.9143\n",
      "Epoch 192/200\n",
      "105/105 - 0s - loss: 0.3874 - acc: 0.9143\n",
      "Epoch 193/200\n",
      "105/105 - 0s - loss: 0.3859 - acc: 0.9143\n",
      "Epoch 194/200\n",
      "105/105 - 0s - loss: 0.3845 - acc: 0.9143\n",
      "Epoch 195/200\n",
      "105/105 - 0s - loss: 0.3832 - acc: 0.9143\n",
      "Epoch 196/200\n",
      "105/105 - 0s - loss: 0.3819 - acc: 0.9143\n",
      "Epoch 197/200\n",
      "105/105 - 0s - loss: 0.3806 - acc: 0.9143\n",
      "Epoch 198/200\n",
      "105/105 - 0s - loss: 0.3793 - acc: 0.9143\n",
      "Epoch 199/200\n",
      "105/105 - 0s - loss: 0.3779 - acc: 0.9143\n",
      "Epoch 200/200\n",
      "105/105 - 0s - loss: 0.3765 - acc: 0.9143\n"
     ]
    },
    {
     "data": {
      "text/plain": [
       "<tensorflow.python.keras.callbacks.History at 0x11430a79fd0>"
      ]
     },
     "execution_count": 14,
     "metadata": {},
     "output_type": "execute_result"
    }
   ],
   "source": [
    "model.fit(\n",
    "       X_train,\n",
    "       y_train,\n",
    "       epochs=200,\n",
    "       shuffle=True, # shuffle data randomly.\n",
    "       #NNs perform best on randomly shuffled data\n",
    "       verbose=2 # this will tell keras to print more detailed info\n",
    "       # during trainnig to know what is going on\n",
    "       )"
   ]
  },
  {
   "cell_type": "markdown",
   "metadata": {},
   "source": [
    "### STEP 5 : Evaluation "
   ]
  },
  {
   "cell_type": "code",
   "execution_count": 15,
   "metadata": {},
   "outputs": [
    {
     "name": "stdout",
     "output_type": "stream",
     "text": [
      "45/45 - 0s - loss: 0.3166 - acc: 0.9333\n"
     ]
    },
    {
     "data": {
      "text/plain": [
       "[0.3165571239259508, 0.93333334]"
      ]
     },
     "execution_count": 15,
     "metadata": {},
     "output_type": "execute_result"
    }
   ],
   "source": [
    "test_error_rate = model.evaluate(X_test, y_test, verbose=2)\n",
    "test_error_rate"
   ]
  },
  {
   "cell_type": "code",
   "execution_count": 16,
   "metadata": {},
   "outputs": [
    {
     "name": "stdout",
     "output_type": "stream",
     "text": [
      "acc : 93.33%\n",
      "loss : 31.66%\n"
     ]
    }
   ],
   "source": [
    "print(\n",
    "      \"{} : {:.2f}%\".format(model.metrics_names[1],\n",
    "              test_error_rate[1]*100))\n",
    "print(\n",
    "      \"{} : {:.2f}%\".format(model.metrics_names[0],\n",
    "              test_error_rate[0]*100))\n",
    "#You can run the code again to see how the model perform"
   ]
  },
  {
   "cell_type": "markdown",
   "metadata": {},
   "source": [
    "### STEP 6 : Prediction "
   ]
  },
  {
   "cell_type": "code",
   "execution_count": 17,
   "metadata": {},
   "outputs": [
    {
     "data": {
      "text/plain": [
       "array([1, 0, 2, 1, 2, 0, 1, 2, 2, 1, 2, 0, 0, 0, 0, 1, 2, 1, 1, 2, 0, 2,\n",
       "       0, 2, 2, 2, 2, 2, 0, 0, 0, 0, 1, 0, 0, 2, 1, 0, 0, 0, 2, 1, 2, 0,\n",
       "       0], dtype=int64)"
      ]
     },
     "execution_count": 17,
     "metadata": {},
     "output_type": "execute_result"
    }
   ],
   "source": [
    "predicted_targets = model.predict_classes(X_test)\n",
    "predicted_targets"
   ]
  },
  {
   "cell_type": "code",
   "execution_count": 18,
   "metadata": {},
   "outputs": [],
   "source": [
    "iris_target_array = iris_target_df.values\n",
    "#iris_target_array"
   ]
  },
  {
   "cell_type": "code",
   "execution_count": 19,
   "metadata": {},
   "outputs": [],
   "source": [
    "target = encoder.fit_transform(iris_target_array)\n",
    "#target"
   ]
  },
  {
   "cell_type": "code",
   "execution_count": 20,
   "metadata": {},
   "outputs": [],
   "source": [
    "# true_targets = encoder.inverse_transform()\n",
    "# true_targets\n",
    "#y_test.values"
   ]
  },
  {
   "cell_type": "code",
   "execution_count": 21,
   "metadata": {},
   "outputs": [],
   "source": [
    "true_targets = encoder.inverse_transform(y_test.values)\n",
    "#true_targets"
   ]
  },
  {
   "cell_type": "code",
   "execution_count": 22,
   "metadata": {},
   "outputs": [
    {
     "name": "stdout",
     "output_type": "stream",
     "text": [
      "Flowers in test set: Setosa=19 Versicolor=13 Virginica=13\n"
     ]
    }
   ],
   "source": [
    "#performance_tracker(predicted_targets, true_targets)\n",
    "flowers = {0:'Setosa', 1:'Versicolor', 2:'Virginica'}\n",
    "print(\"Flowers in test set: Setosa={} Versicolor={} Virginica={}\".format(\n",
    "            y_test.Setosa.sum(), y_test.Versicolor.sum(),\n",
    "            y_test.Virginica.sum()))"
   ]
  },
  {
   "cell_type": "code",
   "execution_count": 23,
   "metadata": {},
   "outputs": [
    {
     "name": "stdout",
     "output_type": "stream",
     "text": [
      "CORRECT: Versicolor predicted as Versicolor\n",
      "CORRECT: Setosa predicted as Setosa\n",
      "CORRECT: Virginica predicted as Virginica\n",
      "CORRECT: Versicolor predicted as Versicolor\n",
      "ERROR: Versicolor predicted as Virginica\n",
      "CORRECT: Setosa predicted as Setosa\n",
      "CORRECT: Versicolor predicted as Versicolor\n",
      "CORRECT: Virginica predicted as Virginica\n",
      "ERROR: Versicolor predicted as Virginica\n",
      "CORRECT: Versicolor predicted as Versicolor\n",
      "CORRECT: Virginica predicted as Virginica\n",
      "CORRECT: Setosa predicted as Setosa\n",
      "CORRECT: Setosa predicted as Setosa\n",
      "CORRECT: Setosa predicted as Setosa\n",
      "CORRECT: Setosa predicted as Setosa\n",
      "CORRECT: Versicolor predicted as Versicolor\n",
      "CORRECT: Virginica predicted as Virginica\n",
      "CORRECT: Versicolor predicted as Versicolor\n",
      "CORRECT: Versicolor predicted as Versicolor\n",
      "CORRECT: Virginica predicted as Virginica\n",
      "CORRECT: Setosa predicted as Setosa\n",
      "CORRECT: Virginica predicted as Virginica\n",
      "CORRECT: Setosa predicted as Setosa\n",
      "CORRECT: Virginica predicted as Virginica\n",
      "CORRECT: Virginica predicted as Virginica\n",
      "CORRECT: Virginica predicted as Virginica\n",
      "CORRECT: Virginica predicted as Virginica\n",
      "CORRECT: Virginica predicted as Virginica\n",
      "CORRECT: Setosa predicted as Setosa\n",
      "CORRECT: Setosa predicted as Setosa\n",
      "CORRECT: Setosa predicted as Setosa\n",
      "CORRECT: Setosa predicted as Setosa\n",
      "CORRECT: Versicolor predicted as Versicolor\n",
      "CORRECT: Setosa predicted as Setosa\n",
      "CORRECT: Setosa predicted as Setosa\n",
      "CORRECT: Virginica predicted as Virginica\n",
      "CORRECT: Versicolor predicted as Versicolor\n",
      "CORRECT: Setosa predicted as Setosa\n",
      "CORRECT: Setosa predicted as Setosa\n",
      "CORRECT: Setosa predicted as Setosa\n",
      "CORRECT: Virginica predicted as Virginica\n",
      "CORRECT: Versicolor predicted as Versicolor\n",
      "ERROR: Versicolor predicted as Virginica\n",
      "CORRECT: Setosa predicted as Setosa\n",
      "CORRECT: Setosa predicted as Setosa\n"
     ]
    }
   ],
   "source": [
    "for act,exp in zip(predicted_targets, true_targets):\n",
    "        tup = np.where(exp == 1)\n",
    "        if act != tup[0][0]:\n",
    "            print(\"ERROR: {} predicted as {}\".format(flowers[tup[0][0]],\n",
    "                  flowers[act]))\n",
    "        else:\n",
    "            print(\"CORRECT: {} predicted as {}\".format(flowers[tup[0][0]],\n",
    "                  flowers[act]))"
   ]
  },
  {
   "cell_type": "code",
   "execution_count": null,
   "metadata": {},
   "outputs": [],
   "source": []
  }
 ],
 "metadata": {
  "kernelspec": {
   "display_name": "Python [conda env:root] *",
   "language": "python",
   "name": "conda-root-py"
  },
  "language_info": {
   "codemirror_mode": {
    "name": "ipython",
    "version": 3
   },
   "file_extension": ".py",
   "mimetype": "text/x-python",
   "name": "python",
   "nbconvert_exporter": "python",
   "pygments_lexer": "ipython3",
   "version": "3.7.3"
  }
 },
 "nbformat": 4,
 "nbformat_minor": 2
}
